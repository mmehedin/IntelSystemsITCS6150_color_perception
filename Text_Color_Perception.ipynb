{
 "cells": [
  {
   "cell_type": "code",
   "execution_count": 1,
   "metadata": {},
   "outputs": [],
   "source": [
    "import re\n",
    "import string\n",
    "\n",
    "import nltk\n",
    "from nltk import word_tokenize, ngrams, everygrams\n",
    "from nltk.probability import *\n",
    "from nltk.util import unique_list\n",
    "from nltk import bigrams\n",
    "from nltk import trigrams\n",
    "from nltk.corpus import stopwords\n",
    "from nltk.corpus import udhr \n",
    "\n",
    "import warnings\n",
    "warnings.filterwarnings(\"ignore\")\n",
    "\n",
    "from sklearn.metrics import accuracy_score\n",
    "from sklearn.metrics import confusion_matrix\n",
    "from sklearn.metrics import classification_report\n",
    "\n",
    "%matplotlib inline\n",
    "import seaborn as sns\n",
    "\n",
    "import pandas as pd\n",
    "import numpy as np\n",
    "import matplotlib\n",
    "from matplotlib import pyplot as plt\n",
    "import os\n",
    "import gensim"
   ]
  },
  {
   "cell_type": "code",
   "execution_count": 88,
   "metadata": {},
   "outputs": [
    {
     "data": {
      "text/html": [
       "<script type=\"text/javascript\">window.PlotlyConfig = {MathJaxConfig: 'local'};</script><script type=\"text/javascript\">if (window.MathJax) {MathJax.Hub.Config({SVG: {font: \"STIX-Web\"}});}</script><script>requirejs.config({paths: { 'plotly': ['https://cdn.plot.ly/plotly-latest.min']},});if(!window._Plotly) {require(['plotly'],function(plotly) {window._Plotly=plotly;});}</script>"
      ],
      "text/vnd.plotly.v1+html": [
       "<script type=\"text/javascript\">window.PlotlyConfig = {MathJaxConfig: 'local'};</script><script type=\"text/javascript\">if (window.MathJax) {MathJax.Hub.Config({SVG: {font: \"STIX-Web\"}});}</script><script>requirejs.config({paths: { 'plotly': ['https://cdn.plot.ly/plotly-latest.min']},});if(!window._Plotly) {require(['plotly'],function(plotly) {window._Plotly=plotly;});}</script>"
      ]
     },
     "metadata": {},
     "output_type": "display_data"
    }
   ],
   "source": [
    "import numpy\n",
    "import keras\n",
    "from keras.models import Sequential\n",
    "from keras.layers import Dense\n",
    "from keras.layers import Dropout\n",
    "from keras.layers import LSTM\n",
    "from keras.callbacks import ModelCheckpoint\n",
    "from keras.utils import np_utils\n",
    "from keras.preprocessing.text import Tokenizer\n",
    "import sys\n",
    "\n",
    "from keras.optimizers import SGD\n",
    "\n",
    "from keras.callbacks import EarlyStopping, ModelCheckpoint\n",
    "from keras.utils import np_utils\n",
    "\n",
    "from sklearn.manifold import TSNE\n",
    "\n",
    "## Plotly\n",
    "import plotly.offline as py\n",
    "import plotly.graph_objs as go\n",
    "py.init_notebook_mode(connected=True)"
   ]
  },
  {
   "cell_type": "code",
   "execution_count": 3,
   "metadata": {},
   "outputs": [],
   "source": [
    "current_dir =os.getcwd()"
   ]
  },
  {
   "cell_type": "code",
   "execution_count": 4,
   "metadata": {},
   "outputs": [],
   "source": [
    "global word2vec \n",
    "word2vec = gensim.models.KeyedVectors.load_word2vec_format(current_dir+\"/GoogleNews-vectors-negative300.bin.gz\", binary=True)"
   ]
  },
  {
   "cell_type": "code",
   "execution_count": 5,
   "metadata": {},
   "outputs": [],
   "source": [
    "#kaggle\n",
    "df = pd.read_csv(current_dir+'/'+'color-concrete-objects.csv')\n",
    "df1 = pd.read_csv(current_dir+'/'+'literal-nonliteral-uses.csv')"
   ]
  },
  {
   "cell_type": "code",
   "execution_count": 6,
   "metadata": {},
   "outputs": [
    {
     "data": {
      "text/plain": [
       "Index(['object', 'color'], dtype='object')"
      ]
     },
     "execution_count": 6,
     "metadata": {},
     "output_type": "execute_result"
    }
   ],
   "source": [
    "df1.columns\n",
    "df.columns"
   ]
  },
  {
   "cell_type": "code",
   "execution_count": 7,
   "metadata": {},
   "outputs": [],
   "source": [
    "df2=df1[['color', 'noun']]\n",
    "#df = df.merge(df1, left_on)\n",
    "df = df.rename(index=str, columns={\"object\":\"noun\"})"
   ]
  },
  {
   "cell_type": "code",
   "execution_count": 8,
   "metadata": {},
   "outputs": [
    {
     "name": "stdout",
     "output_type": "stream",
     "text": [
      "Dimensions= (394, 2)\n"
     ]
    },
    {
     "data": {
      "text/html": [
       "<div>\n",
       "<style scoped>\n",
       "    .dataframe tbody tr th:only-of-type {\n",
       "        vertical-align: middle;\n",
       "    }\n",
       "\n",
       "    .dataframe tbody tr th {\n",
       "        vertical-align: top;\n",
       "    }\n",
       "\n",
       "    .dataframe thead th {\n",
       "        text-align: right;\n",
       "    }\n",
       "</style>\n",
       "<table border=\"1\" class=\"dataframe\">\n",
       "  <thead>\n",
       "    <tr style=\"text-align: right;\">\n",
       "      <th></th>\n",
       "      <th>0</th>\n",
       "      <th>1</th>\n",
       "      <th>2</th>\n",
       "      <th>3</th>\n",
       "      <th>4</th>\n",
       "      <th>5</th>\n",
       "      <th>6</th>\n",
       "      <th>7</th>\n",
       "      <th>8</th>\n",
       "      <th>9</th>\n",
       "      <th>...</th>\n",
       "      <th>20</th>\n",
       "      <th>21</th>\n",
       "      <th>22</th>\n",
       "      <th>23</th>\n",
       "      <th>24</th>\n",
       "      <th>25</th>\n",
       "      <th>26</th>\n",
       "      <th>27</th>\n",
       "      <th>28</th>\n",
       "      <th>29</th>\n",
       "    </tr>\n",
       "  </thead>\n",
       "  <tbody>\n",
       "    <tr>\n",
       "      <th>color</th>\n",
       "      <td>black</td>\n",
       "      <td>white</td>\n",
       "      <td>white</td>\n",
       "      <td>green</td>\n",
       "      <td>white</td>\n",
       "      <td>black</td>\n",
       "      <td>white</td>\n",
       "      <td>red</td>\n",
       "      <td>blue</td>\n",
       "      <td>green</td>\n",
       "      <td>...</td>\n",
       "      <td>white</td>\n",
       "      <td>black</td>\n",
       "      <td>green</td>\n",
       "      <td>green</td>\n",
       "      <td>black</td>\n",
       "      <td>red</td>\n",
       "      <td>brown</td>\n",
       "      <td>white</td>\n",
       "      <td>black</td>\n",
       "      <td>green</td>\n",
       "    </tr>\n",
       "    <tr>\n",
       "      <th>noun</th>\n",
       "      <td>sky</td>\n",
       "      <td>smile</td>\n",
       "      <td>cheese</td>\n",
       "      <td>earth</td>\n",
       "      <td>worker</td>\n",
       "      <td>vote</td>\n",
       "      <td>cloud</td>\n",
       "      <td>building</td>\n",
       "      <td>thing</td>\n",
       "      <td>electricity</td>\n",
       "      <td>...</td>\n",
       "      <td>sand</td>\n",
       "      <td>athlete</td>\n",
       "      <td>tea</td>\n",
       "      <td>weed</td>\n",
       "      <td>plate</td>\n",
       "      <td>signal</td>\n",
       "      <td>colour</td>\n",
       "      <td>light</td>\n",
       "      <td>mass</td>\n",
       "      <td>head</td>\n",
       "    </tr>\n",
       "  </tbody>\n",
       "</table>\n",
       "<p>2 rows × 30 columns</p>\n",
       "</div>"
      ],
      "text/plain": [
       "          0      1       2      3       4      5      6         7      8   \\\n",
       "color  black  white   white  green   white  black  white       red   blue   \n",
       "noun     sky  smile  cheese  earth  worker   vote  cloud  building  thing   \n",
       "\n",
       "                9   ...       20       21     22     23     24      25  \\\n",
       "color        green  ...    white    black  green  green  black     red   \n",
       "noun   electricity  ...     sand  athlete    tea   weed  plate  signal   \n",
       "\n",
       "           26     27     28     29  \n",
       "color   brown  white  black  green  \n",
       "noun   colour  light   mass   head  \n",
       "\n",
       "[2 rows x 30 columns]"
      ]
     },
     "execution_count": 8,
     "metadata": {},
     "output_type": "execute_result"
    }
   ],
   "source": [
    "col=[\"color\", \"noun\"]\n",
    "df=df.reindex(columns=col)#swap columns\n",
    "df2=df2.append([df]) #concatenate\n",
    "\n",
    "df2=df2.sample(frac=1).reset_index(drop=True) #shuffle\n",
    "print(\"Dimensions=\", df2.shape)\n",
    "#print(type(df2))\n",
    "df2.head(30).transpose()"
   ]
  },
  {
   "cell_type": "code",
   "execution_count": 9,
   "metadata": {},
   "outputs": [],
   "source": [
    "def get_embeddings(dicts):\n",
    "    f = open(current_dir+'/glove.6B.100d.txt')\n",
    "    for line in f:\n",
    "    #for (color, noun) in df2.items():\n",
    "        #print(color)\n",
    "        values = line.split()\n",
    "        word = values[0]\n",
    "        coefs = np.asarray(values[1:], dtype='float32')\n",
    "        #for (w in cl:\n",
    "        #print(noun)\n",
    "        #dict[noun] = model[noun]\n",
    "        #dict[color]=model[color]\n",
    "        dicts[word]=coefs   \n",
    "    f.close()\n",
    "    print('Loaded %s word vectors.' % len(dicts))\n",
    "    return dict"
   ]
  },
  {
   "cell_type": "code",
   "execution_count": 10,
   "metadata": {},
   "outputs": [],
   "source": [
    "def get_W2V_Gensim(ana_list, embeddings):\n",
    "     \n",
    "    for (task, samples) in ana_list.items():\n",
    "        print('Analogy task= '+ task)\n",
    "        print('total records in task %s = %s ' %(task, len(samples)))\n",
    "        ground_truth = []\n",
    "        pred = []\n",
    "        #for i in range(len(samples)):\n",
    "        for i in range(15):\n",
    "            if(samples[i][0]!=':' and samples[i][0]!='//'):\n",
    "                print(samples[i])\n",
    "                word_1, word_2 = [w for w in samples[i]]\n",
    "                result = embeddings.most_similar(positive=[word_2, word_1],topn=1)\n",
    "                ground_truth.append(word_1)\n",
    "                pred.append(result[0][0]) \n",
    "        ground_truth = [w.lower() for w in ground_truth]\n",
    "        pred = [w.lower() for w in pred]\n",
    "        accuracy  = accuracy_score(ground_truth, pred)\n",
    "        print('Accuracy = %.2f'%(accuracy*100))"
   ]
  },
  {
   "cell_type": "code",
   "execution_count": 11,
   "metadata": {},
   "outputs": [],
   "source": [
    "color_text = '\\n'.join(df2.color)\n",
    "nouns_text = '\\n'.join(df2.noun)\n",
    "corpus_text=color_text+' '+nouns_text\n",
    "sentences = corpus_text.split('\\n')\n",
    "sentences = [line.lower().split(' ') for line in sentences]\n",
    "#sentences"
   ]
  },
  {
   "cell_type": "code",
   "execution_count": 12,
   "metadata": {},
   "outputs": [],
   "source": [
    "from gensim.models import Word2Vec"
   ]
  },
  {
   "cell_type": "code",
   "execution_count": 13,
   "metadata": {},
   "outputs": [],
   "source": [
    "model = Word2Vec(sentences, size=100, window=5, min_count=3, workers=4)"
   ]
  },
  {
   "cell_type": "code",
   "execution_count": 14,
   "metadata": {},
   "outputs": [
    {
     "data": {
      "text/plain": [
       "array([-4.76248795e-03, -4.73647960e-04,  1.73308433e-03,  3.02668847e-03,\n",
       "       -4.94428832e-06,  3.99139104e-03,  3.44362063e-03, -4.40278603e-03,\n",
       "       -2.03498895e-03, -1.78994681e-03,  2.12828338e-04, -1.60012045e-03,\n",
       "        2.35570781e-03,  4.52876650e-03, -3.53942532e-03, -1.64229400e-03,\n",
       "        2.61113048e-04, -2.38649268e-03, -1.92720490e-03,  7.68810569e-04,\n",
       "       -3.37483385e-03,  1.67870068e-03,  1.51107437e-03,  8.33248720e-04,\n",
       "       -1.49923004e-03,  2.90866895e-03, -3.80285364e-03,  1.81305886e-03,\n",
       "       -4.16734442e-03, -2.12036262e-04, -2.61920365e-03,  9.04015324e-05,\n",
       "       -1.25056563e-03,  3.84765631e-03, -2.70682084e-03,  6.26832305e-04,\n",
       "        3.03359586e-03,  2.93887244e-03, -1.11647963e-03,  2.79507833e-03,\n",
       "        3.28806404e-04, -1.42068905e-03,  3.47334146e-03, -1.94087531e-03,\n",
       "        3.82976170e-04, -3.56402504e-03, -2.12308762e-04, -4.08099359e-03,\n",
       "        4.55634948e-03, -6.68392982e-04,  2.73339357e-03,  5.54740371e-04,\n",
       "       -2.77576852e-03,  2.78018788e-03,  2.93847383e-03, -3.67634767e-03,\n",
       "       -2.06461831e-04, -4.30833222e-03,  3.43132671e-03,  4.21430543e-03,\n",
       "       -4.06813622e-03, -3.19622050e-04,  1.15195394e-03, -1.36859994e-03,\n",
       "        3.78709170e-03,  2.67372420e-03, -4.76087211e-03, -2.78530060e-03,\n",
       "       -9.01337262e-06,  2.97365966e-03,  4.45000175e-03, -3.09196184e-03,\n",
       "       -4.58575506e-03,  2.33888131e-05, -1.60071370e-03, -2.38771085e-03,\n",
       "       -2.03702250e-03, -2.17164028e-03, -2.57851346e-03,  1.74155924e-03,\n",
       "       -4.79646027e-03,  3.88568570e-03,  1.80093618e-03, -1.02889455e-04,\n",
       "       -2.16488657e-03,  1.74511969e-03,  2.82442546e-03,  4.37121978e-03,\n",
       "       -1.31096214e-03,  3.63307097e-03,  2.51144520e-04,  1.28567067e-03,\n",
       "       -4.43549082e-03, -3.01692809e-04,  4.14768094e-03, -2.87607382e-03,\n",
       "        1.46442850e-03,  2.63832300e-03, -1.03817997e-03,  4.47757123e-03],\n",
       "      dtype=float32)"
      ]
     },
     "execution_count": 14,
     "metadata": {},
     "output_type": "execute_result"
    }
   ],
   "source": [
    "vectors = model.wv\n",
    "vectors['grey']"
   ]
  },
  {
   "cell_type": "code",
   "execution_count": 15,
   "metadata": {},
   "outputs": [
    {
     "name": "stdout",
     "output_type": "stream",
     "text": [
      "Loaded 400000 word vectors.\n"
     ]
    },
    {
     "data": {
      "text/plain": [
       "dict"
      ]
     },
     "execution_count": 15,
     "metadata": {},
     "output_type": "execute_result"
    }
   ],
   "source": [
    "global embeddings\n",
    "embeddings = dict()\n",
    "#get_embeddings(dict, vectors)\n",
    "get_embeddings(embeddings)\n",
    "#word2vec(df2)\n",
    "#get_W2V_Gensim(df2, word2vec)\n",
    "#print(word2vec['red'])\n",
    "#print(embeddings['grey'])"
   ]
  },
  {
   "cell_type": "code",
   "execution_count": 16,
   "metadata": {},
   "outputs": [
    {
     "name": "stdout",
     "output_type": "stream",
     "text": [
      "[0       black\n",
      "1       white\n",
      "2       white\n",
      "3       green\n",
      "4       white\n",
      "5       black\n",
      "6       white\n",
      "7         red\n",
      "8        blue\n",
      "9       green\n",
      "10       blue\n",
      "11       blue\n",
      "12     yellow\n",
      "13      brown\n",
      "14      white\n",
      "15      brown\n",
      "16       blue\n",
      "17        red\n",
      "18       blue\n",
      "19      white\n",
      "20      white\n",
      "21      black\n",
      "22      green\n",
      "23      green\n",
      "24      black\n",
      "25        red\n",
      "26      brown\n",
      "27      white\n",
      "28      black\n",
      "29      green\n",
      "        ...  \n",
      "364     white\n",
      "365     white\n",
      "366     black\n",
      "367       red\n",
      "368       red\n",
      "369      grey\n",
      "370     black\n",
      "371     white\n",
      "372     brown\n",
      "373     black\n",
      "374     black\n",
      "375     green\n",
      "376     white\n",
      "377     brown\n",
      "378     black\n",
      "379      blue\n",
      "380     white\n",
      "381     black\n",
      "382     white\n",
      "383     black\n",
      "384     white\n",
      "385     white\n",
      "386     green\n",
      "387     white\n",
      "388     green\n",
      "389      blue\n",
      "390      grey\n",
      "391     white\n",
      "392    yellow\n",
      "393     green\n",
      "Name: color, Length: 394, dtype: object, 0              sky\n",
      "1            smile\n",
      "2           cheese\n",
      "3            earth\n",
      "4           worker\n",
      "5             vote\n",
      "6            cloud\n",
      "7         building\n",
      "8            thing\n",
      "9      electricity\n",
      "10             eye\n",
      "11           shark\n",
      "12         mustard\n",
      "13       cockroach\n",
      "14          ribbon\n",
      "15             egg\n",
      "16            ring\n",
      "17           dress\n",
      "18            note\n",
      "19        interior\n",
      "20            sand\n",
      "21         athlete\n",
      "22             tea\n",
      "23            weed\n",
      "24           plate\n",
      "25          signal\n",
      "26          colour\n",
      "27           light\n",
      "28            mass\n",
      "29            head\n",
      "          ...     \n",
      "364          space\n",
      "365           foam\n",
      "366          sheet\n",
      "367        section\n",
      "368           nose\n",
      "369          slate\n",
      "370       movement\n",
      "371      butterfly\n",
      "372           spot\n",
      "373            top\n",
      "374        manager\n",
      "375         filter\n",
      "376         circle\n",
      "377         beaver\n",
      "378          vinyl\n",
      "379          field\n",
      "380         parent\n",
      "381         border\n",
      "382          cloud\n",
      "383       triangle\n",
      "384           belt\n",
      "385       triangle\n",
      "386         ribbon\n",
      "387          plate\n",
      "388         forest\n",
      "389         planet\n",
      "390       elephant\n",
      "391           gold\n",
      "392           corn\n",
      "393        lettuce\n",
      "Name: noun, Length: 394, dtype: object]\n"
     ]
    }
   ],
   "source": [
    "print([df2[v] for (v,k) in df2.items()])\n",
    "df2=df2.append([df])"
   ]
  },
  {
   "cell_type": "code",
   "execution_count": 17,
   "metadata": {},
   "outputs": [
    {
     "name": "stdout",
     "output_type": "stream",
     "text": [
      "Total Characters:  10985\n",
      "Total Vocab:  42\n"
     ]
    }
   ],
   "source": [
    "#filename = \"wonderland.txt\"\n",
    "#filename = current_dir+'/'+\"wonderland5.txt\"\n",
    "filename = current_dir+'/'+\"wonderland2.txt\"\n",
    "raw_text = open(filename).read()\n",
    "raw_text = raw_text.lower()\n",
    "# create mapping of unique chars to integers\n",
    "chars = sorted(list(set(raw_text)))\n",
    "char_to_int = dict((c, i) for i, c in enumerate(chars))\n",
    "# summarize the loaded data\n",
    "n_chars = len(raw_text)\n",
    "n_vocab = len(chars)\n",
    "print (\"Total Characters: \", n_chars)\n",
    "print (\"Total Vocab: \", n_vocab)\n",
    "seq_length = 100\n",
    "dataX = []\n",
    "dataY = []"
   ]
  },
  {
   "cell_type": "code",
   "execution_count": 18,
   "metadata": {},
   "outputs": [
    {
     "data": {
      "text/html": [
       "<div>\n",
       "<style scoped>\n",
       "    .dataframe tbody tr th:only-of-type {\n",
       "        vertical-align: middle;\n",
       "    }\n",
       "\n",
       "    .dataframe tbody tr th {\n",
       "        vertical-align: top;\n",
       "    }\n",
       "\n",
       "    .dataframe thead th {\n",
       "        text-align: right;\n",
       "    }\n",
       "</style>\n",
       "<table border=\"1\" class=\"dataframe\">\n",
       "  <thead>\n",
       "    <tr style=\"text-align: right;\">\n",
       "      <th></th>\n",
       "      <th>0</th>\n",
       "      <th>1</th>\n",
       "      <th>2</th>\n",
       "      <th>3</th>\n",
       "      <th>4</th>\n",
       "      <th>5</th>\n",
       "      <th>6</th>\n",
       "      <th>7</th>\n",
       "      <th>8</th>\n",
       "      <th>9</th>\n",
       "      <th>...</th>\n",
       "      <th>20</th>\n",
       "      <th>21</th>\n",
       "      <th>22</th>\n",
       "      <th>23</th>\n",
       "      <th>24</th>\n",
       "      <th>25</th>\n",
       "      <th>26</th>\n",
       "      <th>27</th>\n",
       "      <th>28</th>\n",
       "      <th>29</th>\n",
       "    </tr>\n",
       "  </thead>\n",
       "  <tbody>\n",
       "    <tr>\n",
       "      <th>color</th>\n",
       "      <td>black</td>\n",
       "      <td>white</td>\n",
       "      <td>white</td>\n",
       "      <td>green</td>\n",
       "      <td>white</td>\n",
       "      <td>black</td>\n",
       "      <td>white</td>\n",
       "      <td>red</td>\n",
       "      <td>blue</td>\n",
       "      <td>green</td>\n",
       "      <td>...</td>\n",
       "      <td>white</td>\n",
       "      <td>black</td>\n",
       "      <td>green</td>\n",
       "      <td>green</td>\n",
       "      <td>black</td>\n",
       "      <td>red</td>\n",
       "      <td>brown</td>\n",
       "      <td>white</td>\n",
       "      <td>black</td>\n",
       "      <td>green</td>\n",
       "    </tr>\n",
       "    <tr>\n",
       "      <th>noun</th>\n",
       "      <td>sky</td>\n",
       "      <td>smile</td>\n",
       "      <td>cheese</td>\n",
       "      <td>earth</td>\n",
       "      <td>worker</td>\n",
       "      <td>vote</td>\n",
       "      <td>cloud</td>\n",
       "      <td>building</td>\n",
       "      <td>thing</td>\n",
       "      <td>electricity</td>\n",
       "      <td>...</td>\n",
       "      <td>sand</td>\n",
       "      <td>athlete</td>\n",
       "      <td>tea</td>\n",
       "      <td>weed</td>\n",
       "      <td>plate</td>\n",
       "      <td>signal</td>\n",
       "      <td>colour</td>\n",
       "      <td>light</td>\n",
       "      <td>mass</td>\n",
       "      <td>head</td>\n",
       "    </tr>\n",
       "  </tbody>\n",
       "</table>\n",
       "<p>2 rows × 30 columns</p>\n",
       "</div>"
      ],
      "text/plain": [
       "          0      1       2      3       4      5      6         7      8   \\\n",
       "color  black  white   white  green   white  black  white       red   blue   \n",
       "noun     sky  smile  cheese  earth  worker   vote  cloud  building  thing   \n",
       "\n",
       "                9   ...       20       21     22     23     24      25  \\\n",
       "color        green  ...    white    black  green  green  black     red   \n",
       "noun   electricity  ...     sand  athlete    tea   weed  plate  signal   \n",
       "\n",
       "           26     27     28     29  \n",
       "color   brown  white  black  green  \n",
       "noun   colour  light   mass   head  \n",
       "\n",
       "[2 rows x 30 columns]"
      ]
     },
     "execution_count": 18,
     "metadata": {},
     "output_type": "execute_result"
    }
   ],
   "source": [
    "def get_character_model():\n",
    "    \n",
    "\n",
    "    \n",
    "    # prepare the dataset of input to output pairs encoded as integers\n",
    "\n",
    "    for i in range(0, n_chars - seq_length, 1):\n",
    "        seq_in = raw_text[i:i + seq_length]\n",
    "        seq_out = raw_text[i + seq_length]\n",
    "        dataX.append([char_to_int[char] for char in seq_in])\n",
    "        dataY.append(char_to_int[seq_out])\n",
    "    n_patterns = len(dataX)\n",
    "    print (\"Total Patterns: \", n_patterns)\n",
    "    # reshape X to be [samples, time steps, features]\n",
    "    X = numpy.reshape(dataX, (n_patterns, seq_length, 1))\n",
    "    # normalize\n",
    "    X = X / float(n_vocab)\n",
    "    # one hot encode the output variable\n",
    "    y = np_utils.to_categorical(dataY)\n",
    "    # define the LSTM model\n",
    "    model = Sequential()\n",
    "    model.add(LSTM(24, input_shape=(X.shape[1], X.shape[2]), return_sequences=True)) #maybe use convolution networks here instead of adding more LSTM\n",
    "    model.add(Dropout(0.1))\n",
    "    #model.add(LSTM(12, input_shape=(X.shape[1], X.shape[2]), return_sequences=True)) #maybe use convolution networks here instead of adding more LSTM\n",
    "    #model.add(Dropout(0.2))\n",
    "    model.add(LSTM(24))#this may be dropped for increased speed\n",
    "    model.add(Dropout(0.1))\n",
    "\n",
    "    model.add(Dense(y.shape[1], activation='softmax'))#this activation may be done in line 43\n",
    "    ad = keras.optimizers.Adam(lr=0.01, beta_1=0.9, beta_2=0.999, epsilon=None, decay=0.0, amsgrad=False)\n",
    "    model.compile(loss='categorical_crossentropy', optimizer=ad)#optimizer='adam')\n",
    "    # define the checkpoint\n",
    "    \n",
    "    filepath=\"weights-improvement2-{epoch:02d}-{loss:.4f}-bigger.hdf5\"\n",
    "    \n",
    "    checkpoint = ModelCheckpoint(filepath, monitor='loss', verbose=1, save_best_only=True, mode='min')\n",
    "    #checkpoint = ModelCheckpoint(filepath, monitor='val_acc', verbose=1, save_best_only=True, mode='min')\n",
    "    callbacks_list = [checkpoint]\n",
    "    # fit the model\n",
    "    model.fit(X, y, epochs=1, batch_size=64, callbacks=callbacks_list)\n",
    "    return model \n",
    "df2.head(30).transpose()\n"
   ]
  },
  {
   "cell_type": "code",
   "execution_count": 19,
   "metadata": {},
   "outputs": [],
   "source": [
    "#char_model = get_character_model()"
   ]
  },
  {
   "cell_type": "code",
   "execution_count": null,
   "metadata": {
    "scrolled": false
   },
   "outputs": [],
   "source": [
    "\n"
   ]
  },
  {
   "cell_type": "code",
   "execution_count": 20,
   "metadata": {
    "scrolled": true
   },
   "outputs": [],
   "source": [
    "def get_char_model_training():\n",
    "    filename =\"weights-improvement2-01-3.1145-bigger.hdf5\"\n",
    "    int_to_char = dict((i, c) for i, c in enumerate(chars))\n",
    "    #filename =current_dir+\"/\"+\"weights-improvement2-214-0.0087-bigger.hdf5\"\n",
    "    char_model.load_weights(filename)\n",
    "    char_model.compile(loss='categorical_crossentropy', optimizer='adam')\n",
    "    # pick a random seed\n",
    "    print(len(dataX))\n",
    "    start = numpy.random.randint(0, len(dataX)-1)\n",
    "\n",
    "    pattern = dataX[start]\n",
    "    print (\"Seed:\")\n",
    "    print (\"\\\"\", ''.join([int_to_char[value] for value in pattern]), \"\\\"\")\n",
    "    # generate characters\n",
    "    for i in range(1000):\n",
    "        x = numpy.reshape(pattern, (1, len(pattern), 1))\n",
    "        x = x / float(n_vocab)\n",
    "        prediction = char_model.predict(x, verbose=0)\n",
    "        index = numpy.argmax(prediction)\n",
    "        result = int_to_char[index]\n",
    "        seq_in = [int_to_char[value] for value in pattern]\n",
    "        sys.stdout.write(result)\n",
    "        pattern.append(index)\n",
    "        pattern = pattern[1:len(pattern)]"
   ]
  },
  {
   "cell_type": "code",
   "execution_count": 21,
   "metadata": {},
   "outputs": [],
   "source": [
    "#get_char_model_training()"
   ]
  },
  {
   "cell_type": "code",
   "execution_count": 22,
   "metadata": {},
   "outputs": [],
   "source": [
    "colors_df=pd.read_csv('color_data_final.csv')\n",
    "colors_df = colors_df.sample(frac=1).reset_index(drop=True)"
   ]
  },
  {
   "cell_type": "code",
   "execution_count": 23,
   "metadata": {},
   "outputs": [
    {
     "name": "stdout",
     "output_type": "stream",
     "text": [
      "Index(['Unnamed: 0', 'name', 'context', 'code', 'red', 'green', 'blue'], dtype='object')\n",
      "{'grey', 'brown', 'black', 'white', 'blue', 'red', 'yellow', 'orange', 'green', 'pink'}\n"
     ]
    },
    {
     "data": {
      "text/html": [
       "<div>\n",
       "<style scoped>\n",
       "    .dataframe tbody tr th:only-of-type {\n",
       "        vertical-align: middle;\n",
       "    }\n",
       "\n",
       "    .dataframe tbody tr th {\n",
       "        vertical-align: top;\n",
       "    }\n",
       "\n",
       "    .dataframe thead th {\n",
       "        text-align: right;\n",
       "    }\n",
       "</style>\n",
       "<table border=\"1\" class=\"dataframe\">\n",
       "  <thead>\n",
       "    <tr style=\"text-align: right;\">\n",
       "      <th></th>\n",
       "      <th>Unnamed: 0</th>\n",
       "      <th>name</th>\n",
       "      <th>context</th>\n",
       "      <th>code</th>\n",
       "      <th>red</th>\n",
       "      <th>green</th>\n",
       "      <th>blue</th>\n",
       "    </tr>\n",
       "  </thead>\n",
       "  <tbody>\n",
       "    <tr>\n",
       "      <th>0</th>\n",
       "      <td>2276</td>\n",
       "      <td>white</td>\n",
       "      <td>en trying catch tailor kept going came place o...</td>\n",
       "      <td>(255, 255, 255)</td>\n",
       "      <td>255</td>\n",
       "      <td>255</td>\n",
       "      <td>255</td>\n",
       "    </tr>\n",
       "    <tr>\n",
       "      <th>1</th>\n",
       "      <td>1660</td>\n",
       "      <td>pink</td>\n",
       "      <td>feather last night going laugh wear ribbons ca...</td>\n",
       "      <td>(255, 192, 203)</td>\n",
       "      <td>255</td>\n",
       "      <td>192</td>\n",
       "      <td>203</td>\n",
       "    </tr>\n",
       "    <tr>\n",
       "      <th>2</th>\n",
       "      <td>23</td>\n",
       "      <td>white</td>\n",
       "      <td>foam</td>\n",
       "      <td>(255, 255, 255)</td>\n",
       "      <td>255</td>\n",
       "      <td>255</td>\n",
       "      <td>255</td>\n",
       "    </tr>\n",
       "    <tr>\n",
       "      <th>3</th>\n",
       "      <td>1655</td>\n",
       "      <td>orange</td>\n",
       "      <td>r clients stock would like certainly enough ju...</td>\n",
       "      <td>(255, 165, 0)</td>\n",
       "      <td>255</td>\n",
       "      <td>165</td>\n",
       "      <td>0</td>\n",
       "    </tr>\n",
       "    <tr>\n",
       "      <th>4</th>\n",
       "      <td>2076</td>\n",
       "      <td>red</td>\n",
       "      <td>one friend wannabe fashionista cell yeah walk ...</td>\n",
       "      <td>(255, 0, 0)</td>\n",
       "      <td>255</td>\n",
       "      <td>0</td>\n",
       "      <td>0</td>\n",
       "    </tr>\n",
       "    <tr>\n",
       "      <th>5</th>\n",
       "      <td>937</td>\n",
       "      <td>brown</td>\n",
       "      <td>ad fact brisk breeze passage stirred fluttered...</td>\n",
       "      <td>(165, 42, 42)</td>\n",
       "      <td>165</td>\n",
       "      <td>42</td>\n",
       "      <td>42</td>\n",
       "    </tr>\n",
       "    <tr>\n",
       "      <th>6</th>\n",
       "      <td>1230</td>\n",
       "      <td>green</td>\n",
       "      <td>hope day susan happy little friends upon play ...</td>\n",
       "      <td>(0, 255, 0)</td>\n",
       "      <td>0</td>\n",
       "      <td>255</td>\n",
       "      <td>0</td>\n",
       "    </tr>\n",
       "    <tr>\n",
       "      <th>7</th>\n",
       "      <td>2638</td>\n",
       "      <td>white</td>\n",
       "      <td>shadow wilds coaxes vapor dusk depart air shak...</td>\n",
       "      <td>(255, 255, 255)</td>\n",
       "      <td>255</td>\n",
       "      <td>255</td>\n",
       "      <td>255</td>\n",
       "    </tr>\n",
       "    <tr>\n",
       "      <th>8</th>\n",
       "      <td>519</td>\n",
       "      <td>black</td>\n",
       "      <td>slave hole</td>\n",
       "      <td>(0, 0, 0)</td>\n",
       "      <td>0</td>\n",
       "      <td>0</td>\n",
       "      <td>0</td>\n",
       "    </tr>\n",
       "    <tr>\n",
       "      <th>9</th>\n",
       "      <td>618</td>\n",
       "      <td>blue</td>\n",
       "      <td>unt moreover thou shalt make tabernacle ten cu...</td>\n",
       "      <td>(0, 0, 255)</td>\n",
       "      <td>0</td>\n",
       "      <td>0</td>\n",
       "      <td>255</td>\n",
       "    </tr>\n",
       "    <tr>\n",
       "      <th>10</th>\n",
       "      <td>671</td>\n",
       "      <td>blue</td>\n",
       "      <td>tween pretty ladies white caps heads white apr...</td>\n",
       "      <td>(0, 0, 255)</td>\n",
       "      <td>0</td>\n",
       "      <td>0</td>\n",
       "      <td>255</td>\n",
       "    </tr>\n",
       "    <tr>\n",
       "      <th>11</th>\n",
       "      <td>778</td>\n",
       "      <td>blue</td>\n",
       "      <td>k dr bull police officer card flung card upon ...</td>\n",
       "      <td>(0, 0, 255)</td>\n",
       "      <td>0</td>\n",
       "      <td>0</td>\n",
       "      <td>255</td>\n",
       "    </tr>\n",
       "    <tr>\n",
       "      <th>12</th>\n",
       "      <td>1171</td>\n",
       "      <td>green</td>\n",
       "      <td>ranches big apple tree came crawling mist like...</td>\n",
       "      <td>(0, 255, 0)</td>\n",
       "      <td>0</td>\n",
       "      <td>255</td>\n",
       "      <td>0</td>\n",
       "    </tr>\n",
       "    <tr>\n",
       "      <th>13</th>\n",
       "      <td>582</td>\n",
       "      <td>black</td>\n",
       "      <td>chemical workers industrial union said fears p...</td>\n",
       "      <td>(0, 0, 0)</td>\n",
       "      <td>0</td>\n",
       "      <td>0</td>\n",
       "      <td>0</td>\n",
       "    </tr>\n",
       "    <tr>\n",
       "      <th>14</th>\n",
       "      <td>176</td>\n",
       "      <td>black</td>\n",
       "      <td>side</td>\n",
       "      <td>(0, 0, 0)</td>\n",
       "      <td>0</td>\n",
       "      <td>0</td>\n",
       "      <td>0</td>\n",
       "    </tr>\n",
       "    <tr>\n",
       "      <th>15</th>\n",
       "      <td>1304</td>\n",
       "      <td>green</td>\n",
       "      <td>like hair hung sword affrighted damocles wondr...</td>\n",
       "      <td>(0, 255, 0)</td>\n",
       "      <td>0</td>\n",
       "      <td>255</td>\n",
       "      <td>0</td>\n",
       "    </tr>\n",
       "    <tr>\n",
       "      <th>16</th>\n",
       "      <td>238</td>\n",
       "      <td>black</td>\n",
       "      <td>hats like chimney pots little doctor especiall...</td>\n",
       "      <td>(0, 0, 0)</td>\n",
       "      <td>0</td>\n",
       "      <td>0</td>\n",
       "      <td>0</td>\n",
       "    </tr>\n",
       "    <tr>\n",
       "      <th>17</th>\n",
       "      <td>930</td>\n",
       "      <td>brown</td>\n",
       "      <td>queer indeed tis voice lobster heard declare b...</td>\n",
       "      <td>(165, 42, 42)</td>\n",
       "      <td>165</td>\n",
       "      <td>42</td>\n",
       "      <td>42</td>\n",
       "    </tr>\n",
       "    <tr>\n",
       "      <th>18</th>\n",
       "      <td>1528</td>\n",
       "      <td>grey</td>\n",
       "      <td>e thick sandwiches coffee stall made way acros...</td>\n",
       "      <td>(128, 128, 128)</td>\n",
       "      <td>128</td>\n",
       "      <td>128</td>\n",
       "      <td>128</td>\n",
       "    </tr>\n",
       "    <tr>\n",
       "      <th>19</th>\n",
       "      <td>383</td>\n",
       "      <td>black</td>\n",
       "      <td>sided creamy pool round round ever contracting...</td>\n",
       "      <td>(0, 0, 0)</td>\n",
       "      <td>0</td>\n",
       "      <td>0</td>\n",
       "      <td>0</td>\n",
       "    </tr>\n",
       "    <tr>\n",
       "      <th>20</th>\n",
       "      <td>2677</td>\n",
       "      <td>white</td>\n",
       "      <td>solid world enemy dead man divine dead look li...</td>\n",
       "      <td>(255, 255, 255)</td>\n",
       "      <td>255</td>\n",
       "      <td>255</td>\n",
       "      <td>255</td>\n",
       "    </tr>\n",
       "    <tr>\n",
       "      <th>21</th>\n",
       "      <td>429</td>\n",
       "      <td>black</td>\n",
       "      <td>old worn marching noticing nothing give shores...</td>\n",
       "      <td>(0, 0, 0)</td>\n",
       "      <td>0</td>\n",
       "      <td>0</td>\n",
       "      <td>0</td>\n",
       "    </tr>\n",
       "    <tr>\n",
       "      <th>22</th>\n",
       "      <td>195</td>\n",
       "      <td>black</td>\n",
       "      <td>experience</td>\n",
       "      <td>(0, 0, 0)</td>\n",
       "      <td>0</td>\n",
       "      <td>0</td>\n",
       "      <td>0</td>\n",
       "    </tr>\n",
       "    <tr>\n",
       "      <th>23</th>\n",
       "      <td>2352</td>\n",
       "      <td>white</td>\n",
       "      <td>editerranean covered awning fenced little lemo...</td>\n",
       "      <td>(255, 255, 255)</td>\n",
       "      <td>255</td>\n",
       "      <td>255</td>\n",
       "      <td>255</td>\n",
       "    </tr>\n",
       "    <tr>\n",
       "      <th>24</th>\n",
       "      <td>1354</td>\n",
       "      <td>green</td>\n",
       "      <td>building nest mate melted snow march willow se...</td>\n",
       "      <td>(0, 255, 0)</td>\n",
       "      <td>0</td>\n",
       "      <td>255</td>\n",
       "      <td>0</td>\n",
       "    </tr>\n",
       "    <tr>\n",
       "      <th>25</th>\n",
       "      <td>2520</td>\n",
       "      <td>white</td>\n",
       "      <td>make soon inkling truth occurred remembered st...</td>\n",
       "      <td>(255, 255, 255)</td>\n",
       "      <td>255</td>\n",
       "      <td>255</td>\n",
       "      <td>255</td>\n",
       "    </tr>\n",
       "    <tr>\n",
       "      <th>26</th>\n",
       "      <td>2226</td>\n",
       "      <td>white</td>\n",
       "      <td>armies heaven followed upon horses clothed fin...</td>\n",
       "      <td>(255, 255, 255)</td>\n",
       "      <td>255</td>\n",
       "      <td>255</td>\n",
       "      <td>255</td>\n",
       "    </tr>\n",
       "    <tr>\n",
       "      <th>27</th>\n",
       "      <td>278</td>\n",
       "      <td>white</td>\n",
       "      <td>fence</td>\n",
       "      <td>(255, 255, 255)</td>\n",
       "      <td>255</td>\n",
       "      <td>255</td>\n",
       "      <td>255</td>\n",
       "    </tr>\n",
       "    <tr>\n",
       "      <th>28</th>\n",
       "      <td>2768</td>\n",
       "      <td>white</td>\n",
       "      <td>sailor well without hat fucking ugly girl litt...</td>\n",
       "      <td>(255, 255, 255)</td>\n",
       "      <td>255</td>\n",
       "      <td>255</td>\n",
       "      <td>255</td>\n",
       "    </tr>\n",
       "    <tr>\n",
       "      <th>29</th>\n",
       "      <td>336</td>\n",
       "      <td>black</td>\n",
       "      <td>pi steamer fedallah seen pulling harpooneer oa...</td>\n",
       "      <td>(0, 0, 0)</td>\n",
       "      <td>0</td>\n",
       "      <td>0</td>\n",
       "      <td>0</td>\n",
       "    </tr>\n",
       "    <tr>\n",
       "      <th>...</th>\n",
       "      <td>...</td>\n",
       "      <td>...</td>\n",
       "      <td>...</td>\n",
       "      <td>...</td>\n",
       "      <td>...</td>\n",
       "      <td>...</td>\n",
       "      <td>...</td>\n",
       "    </tr>\n",
       "    <tr>\n",
       "      <th>4205</th>\n",
       "      <td>2999</td>\n",
       "      <td>yellow</td>\n",
       "      <td>isperingly urging crew face set like flint stu...</td>\n",
       "      <td>(255, 255, 0)</td>\n",
       "      <td>255</td>\n",
       "      <td>255</td>\n",
       "      <td>0</td>\n",
       "    </tr>\n",
       "    <tr>\n",
       "      <th>4206</th>\n",
       "      <td>298</td>\n",
       "      <td>black</td>\n",
       "      <td>rafters broken fall others entire beams rafter...</td>\n",
       "      <td>(0, 0, 0)</td>\n",
       "      <td>0</td>\n",
       "      <td>0</td>\n",
       "      <td>0</td>\n",
       "    </tr>\n",
       "    <tr>\n",
       "      <th>4207</th>\n",
       "      <td>699</td>\n",
       "      <td>blue</td>\n",
       "      <td>ically let pass silver moonlight picked piece ...</td>\n",
       "      <td>(0, 0, 255)</td>\n",
       "      <td>0</td>\n",
       "      <td>0</td>\n",
       "      <td>255</td>\n",
       "    </tr>\n",
       "    <tr>\n",
       "      <th>4208</th>\n",
       "      <td>255</td>\n",
       "      <td>black</td>\n",
       "      <td>sand</td>\n",
       "      <td>(0, 0, 0)</td>\n",
       "      <td>0</td>\n",
       "      <td>0</td>\n",
       "      <td>0</td>\n",
       "    </tr>\n",
       "    <tr>\n",
       "      <th>4209</th>\n",
       "      <td>441</td>\n",
       "      <td>black</td>\n",
       "      <td>r descent master word spoken except one red wh...</td>\n",
       "      <td>(0, 0, 0)</td>\n",
       "      <td>0</td>\n",
       "      <td>0</td>\n",
       "      <td>0</td>\n",
       "    </tr>\n",
       "    <tr>\n",
       "      <th>4210</th>\n",
       "      <td>1619</td>\n",
       "      <td>orange</td>\n",
       "      <td>think going well customer pancetta deli guy wh...</td>\n",
       "      <td>(255, 165, 0)</td>\n",
       "      <td>255</td>\n",
       "      <td>165</td>\n",
       "      <td>0</td>\n",
       "    </tr>\n",
       "    <tr>\n",
       "      <th>4211</th>\n",
       "      <td>87</td>\n",
       "      <td>black</td>\n",
       "      <td>stiffen cat macian sitting somewhat disconsola...</td>\n",
       "      <td>(0, 0, 0)</td>\n",
       "      <td>0</td>\n",
       "      <td>0</td>\n",
       "      <td>0</td>\n",
       "    </tr>\n",
       "    <tr>\n",
       "      <th>4212</th>\n",
       "      <td>2591</td>\n",
       "      <td>white</td>\n",
       "      <td>yet ness would intensified terror shark glidin...</td>\n",
       "      <td>(255, 255, 255)</td>\n",
       "      <td>255</td>\n",
       "      <td>255</td>\n",
       "      <td>255</td>\n",
       "    </tr>\n",
       "    <tr>\n",
       "      <th>4213</th>\n",
       "      <td>568</td>\n",
       "      <td>black</td>\n",
       "      <td>selle find give message giselle slaps face man...</td>\n",
       "      <td>(0, 0, 0)</td>\n",
       "      <td>0</td>\n",
       "      <td>0</td>\n",
       "      <td>0</td>\n",
       "    </tr>\n",
       "    <tr>\n",
       "      <th>4214</th>\n",
       "      <td>997</td>\n",
       "      <td>brown</td>\n",
       "      <td>essed windsor uniform except prince wales wore...</td>\n",
       "      <td>(165, 42, 42)</td>\n",
       "      <td>165</td>\n",
       "      <td>42</td>\n",
       "      <td>42</td>\n",
       "    </tr>\n",
       "    <tr>\n",
       "      <th>4215</th>\n",
       "      <td>241</td>\n",
       "      <td>black</td>\n",
       "      <td>speak guarding marquis whose goal escape front...</td>\n",
       "      <td>(0, 0, 0)</td>\n",
       "      <td>0</td>\n",
       "      <td>0</td>\n",
       "      <td>0</td>\n",
       "    </tr>\n",
       "    <tr>\n",
       "      <th>4216</th>\n",
       "      <td>2737</td>\n",
       "      <td>white</td>\n",
       "      <td>rever also see train coming black hole queer m...</td>\n",
       "      <td>(255, 255, 255)</td>\n",
       "      <td>255</td>\n",
       "      <td>255</td>\n",
       "      <td>255</td>\n",
       "    </tr>\n",
       "    <tr>\n",
       "      <th>4217</th>\n",
       "      <td>1811</td>\n",
       "      <td>red</td>\n",
       "      <td>green apple tree wall fixed holding ground shi...</td>\n",
       "      <td>(255, 0, 0)</td>\n",
       "      <td>255</td>\n",
       "      <td>0</td>\n",
       "      <td>0</td>\n",
       "    </tr>\n",
       "    <tr>\n",
       "      <th>4218</th>\n",
       "      <td>2422</td>\n",
       "      <td>white</td>\n",
       "      <td>word sunday bit lip word henceforth hire like ...</td>\n",
       "      <td>(255, 255, 255)</td>\n",
       "      <td>255</td>\n",
       "      <td>255</td>\n",
       "      <td>255</td>\n",
       "    </tr>\n",
       "    <tr>\n",
       "      <th>4219</th>\n",
       "      <td>24</td>\n",
       "      <td>grey</td>\n",
       "      <td>fog</td>\n",
       "      <td>(128, 128, 128)</td>\n",
       "      <td>128</td>\n",
       "      <td>128</td>\n",
       "      <td>128</td>\n",
       "    </tr>\n",
       "    <tr>\n",
       "      <th>4220</th>\n",
       "      <td>2266</td>\n",
       "      <td>white</td>\n",
       "      <td>good actions never go unrewarded terrible mons...</td>\n",
       "      <td>(255, 255, 255)</td>\n",
       "      <td>255</td>\n",
       "      <td>255</td>\n",
       "      <td>255</td>\n",
       "    </tr>\n",
       "    <tr>\n",
       "      <th>4221</th>\n",
       "      <td>444</td>\n",
       "      <td>black</td>\n",
       "      <td>export individual bookmark folders bookmark ma...</td>\n",
       "      <td>(0, 0, 0)</td>\n",
       "      <td>0</td>\n",
       "      <td>0</td>\n",
       "      <td>0</td>\n",
       "    </tr>\n",
       "    <tr>\n",
       "      <th>4222</th>\n",
       "      <td>2917</td>\n",
       "      <td>yellow</td>\n",
       "      <td>sleeps outside night path little yellow tulip ...</td>\n",
       "      <td>(255, 255, 0)</td>\n",
       "      <td>255</td>\n",
       "      <td>255</td>\n",
       "      <td>0</td>\n",
       "    </tr>\n",
       "    <tr>\n",
       "      <th>4223</th>\n",
       "      <td>2538</td>\n",
       "      <td>white</td>\n",
       "      <td>waist line streaks stem stern two separate col...</td>\n",
       "      <td>(255, 255, 255)</td>\n",
       "      <td>255</td>\n",
       "      <td>255</td>\n",
       "      <td>255</td>\n",
       "    </tr>\n",
       "    <tr>\n",
       "      <th>4224</th>\n",
       "      <td>303</td>\n",
       "      <td>white</td>\n",
       "      <td>actor</td>\n",
       "      <td>(255, 255, 255)</td>\n",
       "      <td>255</td>\n",
       "      <td>255</td>\n",
       "      <td>255</td>\n",
       "    </tr>\n",
       "    <tr>\n",
       "      <th>4225</th>\n",
       "      <td>1293</td>\n",
       "      <td>green</td>\n",
       "      <td>x eye upon strange crested comb like incrustat...</td>\n",
       "      <td>(0, 255, 0)</td>\n",
       "      <td>0</td>\n",
       "      <td>255</td>\n",
       "      <td>0</td>\n",
       "    </tr>\n",
       "    <tr>\n",
       "      <th>4226</th>\n",
       "      <td>446</td>\n",
       "      <td>red</td>\n",
       "      <td>dragon arrow</td>\n",
       "      <td>(255, 0, 0)</td>\n",
       "      <td>255</td>\n",
       "      <td>0</td>\n",
       "      <td>0</td>\n",
       "    </tr>\n",
       "    <tr>\n",
       "      <th>4227</th>\n",
       "      <td>2027</td>\n",
       "      <td>red</td>\n",
       "      <td>arrears vengeance hence sign salute sea deny t...</td>\n",
       "      <td>(255, 0, 0)</td>\n",
       "      <td>255</td>\n",
       "      <td>0</td>\n",
       "      <td>0</td>\n",
       "    </tr>\n",
       "    <tr>\n",
       "      <th>4228</th>\n",
       "      <td>257</td>\n",
       "      <td>black</td>\n",
       "      <td>plate</td>\n",
       "      <td>(0, 0, 0)</td>\n",
       "      <td>0</td>\n",
       "      <td>0</td>\n",
       "      <td>0</td>\n",
       "    </tr>\n",
       "    <tr>\n",
       "      <th>4229</th>\n",
       "      <td>2624</td>\n",
       "      <td>white</td>\n",
       "      <td>love dear mariners fold every leaf speed book ...</td>\n",
       "      <td>(255, 255, 255)</td>\n",
       "      <td>255</td>\n",
       "      <td>255</td>\n",
       "      <td>255</td>\n",
       "    </tr>\n",
       "    <tr>\n",
       "      <th>4230</th>\n",
       "      <td>229</td>\n",
       "      <td>black</td>\n",
       "      <td>uillotine heavy red white morning dr bull whit...</td>\n",
       "      <td>(0, 0, 0)</td>\n",
       "      <td>0</td>\n",
       "      <td>0</td>\n",
       "      <td>0</td>\n",
       "    </tr>\n",
       "    <tr>\n",
       "      <th>4231</th>\n",
       "      <td>2642</td>\n",
       "      <td>white</td>\n",
       "      <td>hurry air delicious dry air ripe summer bears ...</td>\n",
       "      <td>(255, 255, 255)</td>\n",
       "      <td>255</td>\n",
       "      <td>255</td>\n",
       "      <td>255</td>\n",
       "    </tr>\n",
       "    <tr>\n",
       "      <th>4232</th>\n",
       "      <td>1877</td>\n",
       "      <td>red</td>\n",
       "      <td>keeping appointments moonlight discolou everyt...</td>\n",
       "      <td>(255, 0, 0)</td>\n",
       "      <td>255</td>\n",
       "      <td>0</td>\n",
       "      <td>0</td>\n",
       "    </tr>\n",
       "    <tr>\n",
       "      <th>4233</th>\n",
       "      <td>1605</td>\n",
       "      <td>orange</td>\n",
       "      <td>ked cut hawk cut sunday going dye black tips g...</td>\n",
       "      <td>(255, 165, 0)</td>\n",
       "      <td>255</td>\n",
       "      <td>165</td>\n",
       "      <td>0</td>\n",
       "    </tr>\n",
       "    <tr>\n",
       "      <th>4234</th>\n",
       "      <td>1780</td>\n",
       "      <td>red</td>\n",
       "      <td>ognomy seems features stand independently face...</td>\n",
       "      <td>(255, 0, 0)</td>\n",
       "      <td>255</td>\n",
       "      <td>0</td>\n",
       "      <td>0</td>\n",
       "    </tr>\n",
       "  </tbody>\n",
       "</table>\n",
       "<p>4235 rows × 7 columns</p>\n",
       "</div>"
      ],
      "text/plain": [
       "      Unnamed: 0    name                                            context  \\\n",
       "0           2276   white  en trying catch tailor kept going came place o...   \n",
       "1           1660    pink  feather last night going laugh wear ribbons ca...   \n",
       "2             23   white                                               foam   \n",
       "3           1655  orange  r clients stock would like certainly enough ju...   \n",
       "4           2076     red  one friend wannabe fashionista cell yeah walk ...   \n",
       "5            937   brown  ad fact brisk breeze passage stirred fluttered...   \n",
       "6           1230   green  hope day susan happy little friends upon play ...   \n",
       "7           2638   white  shadow wilds coaxes vapor dusk depart air shak...   \n",
       "8            519   black                                         slave hole   \n",
       "9            618    blue  unt moreover thou shalt make tabernacle ten cu...   \n",
       "10           671    blue  tween pretty ladies white caps heads white apr...   \n",
       "11           778    blue  k dr bull police officer card flung card upon ...   \n",
       "12          1171   green  ranches big apple tree came crawling mist like...   \n",
       "13           582   black  chemical workers industrial union said fears p...   \n",
       "14           176   black                                               side   \n",
       "15          1304   green  like hair hung sword affrighted damocles wondr...   \n",
       "16           238   black  hats like chimney pots little doctor especiall...   \n",
       "17           930   brown  queer indeed tis voice lobster heard declare b...   \n",
       "18          1528    grey  e thick sandwiches coffee stall made way acros...   \n",
       "19           383   black  sided creamy pool round round ever contracting...   \n",
       "20          2677   white  solid world enemy dead man divine dead look li...   \n",
       "21           429   black  old worn marching noticing nothing give shores...   \n",
       "22           195   black                                         experience   \n",
       "23          2352   white  editerranean covered awning fenced little lemo...   \n",
       "24          1354   green  building nest mate melted snow march willow se...   \n",
       "25          2520   white  make soon inkling truth occurred remembered st...   \n",
       "26          2226   white  armies heaven followed upon horses clothed fin...   \n",
       "27           278   white                                              fence   \n",
       "28          2768   white  sailor well without hat fucking ugly girl litt...   \n",
       "29           336   black  pi steamer fedallah seen pulling harpooneer oa...   \n",
       "...          ...     ...                                                ...   \n",
       "4205        2999  yellow  isperingly urging crew face set like flint stu...   \n",
       "4206         298   black  rafters broken fall others entire beams rafter...   \n",
       "4207         699    blue  ically let pass silver moonlight picked piece ...   \n",
       "4208         255   black                                               sand   \n",
       "4209         441   black  r descent master word spoken except one red wh...   \n",
       "4210        1619  orange  think going well customer pancetta deli guy wh...   \n",
       "4211          87   black  stiffen cat macian sitting somewhat disconsola...   \n",
       "4212        2591   white  yet ness would intensified terror shark glidin...   \n",
       "4213         568   black  selle find give message giselle slaps face man...   \n",
       "4214         997   brown  essed windsor uniform except prince wales wore...   \n",
       "4215         241   black  speak guarding marquis whose goal escape front...   \n",
       "4216        2737   white  rever also see train coming black hole queer m...   \n",
       "4217        1811     red  green apple tree wall fixed holding ground shi...   \n",
       "4218        2422   white  word sunday bit lip word henceforth hire like ...   \n",
       "4219          24    grey                                                fog   \n",
       "4220        2266   white  good actions never go unrewarded terrible mons...   \n",
       "4221         444   black  export individual bookmark folders bookmark ma...   \n",
       "4222        2917  yellow  sleeps outside night path little yellow tulip ...   \n",
       "4223        2538   white  waist line streaks stem stern two separate col...   \n",
       "4224         303   white                                              actor   \n",
       "4225        1293   green  x eye upon strange crested comb like incrustat...   \n",
       "4226         446     red                                       dragon arrow   \n",
       "4227        2027     red  arrears vengeance hence sign salute sea deny t...   \n",
       "4228         257   black                                              plate   \n",
       "4229        2624   white  love dear mariners fold every leaf speed book ...   \n",
       "4230         229   black  uillotine heavy red white morning dr bull whit...   \n",
       "4231        2642   white  hurry air delicious dry air ripe summer bears ...   \n",
       "4232        1877     red  keeping appointments moonlight discolou everyt...   \n",
       "4233        1605  orange  ked cut hawk cut sunday going dye black tips g...   \n",
       "4234        1780     red  ognomy seems features stand independently face...   \n",
       "\n",
       "                 code  red  green  blue  \n",
       "0     (255, 255, 255)  255    255   255  \n",
       "1     (255, 192, 203)  255    192   203  \n",
       "2     (255, 255, 255)  255    255   255  \n",
       "3       (255, 165, 0)  255    165     0  \n",
       "4         (255, 0, 0)  255      0     0  \n",
       "5       (165, 42, 42)  165     42    42  \n",
       "6         (0, 255, 0)    0    255     0  \n",
       "7     (255, 255, 255)  255    255   255  \n",
       "8           (0, 0, 0)    0      0     0  \n",
       "9         (0, 0, 255)    0      0   255  \n",
       "10        (0, 0, 255)    0      0   255  \n",
       "11        (0, 0, 255)    0      0   255  \n",
       "12        (0, 255, 0)    0    255     0  \n",
       "13          (0, 0, 0)    0      0     0  \n",
       "14          (0, 0, 0)    0      0     0  \n",
       "15        (0, 255, 0)    0    255     0  \n",
       "16          (0, 0, 0)    0      0     0  \n",
       "17      (165, 42, 42)  165     42    42  \n",
       "18    (128, 128, 128)  128    128   128  \n",
       "19          (0, 0, 0)    0      0     0  \n",
       "20    (255, 255, 255)  255    255   255  \n",
       "21          (0, 0, 0)    0      0     0  \n",
       "22          (0, 0, 0)    0      0     0  \n",
       "23    (255, 255, 255)  255    255   255  \n",
       "24        (0, 255, 0)    0    255     0  \n",
       "25    (255, 255, 255)  255    255   255  \n",
       "26    (255, 255, 255)  255    255   255  \n",
       "27    (255, 255, 255)  255    255   255  \n",
       "28    (255, 255, 255)  255    255   255  \n",
       "29          (0, 0, 0)    0      0     0  \n",
       "...               ...  ...    ...   ...  \n",
       "4205    (255, 255, 0)  255    255     0  \n",
       "4206        (0, 0, 0)    0      0     0  \n",
       "4207      (0, 0, 255)    0      0   255  \n",
       "4208        (0, 0, 0)    0      0     0  \n",
       "4209        (0, 0, 0)    0      0     0  \n",
       "4210    (255, 165, 0)  255    165     0  \n",
       "4211        (0, 0, 0)    0      0     0  \n",
       "4212  (255, 255, 255)  255    255   255  \n",
       "4213        (0, 0, 0)    0      0     0  \n",
       "4214    (165, 42, 42)  165     42    42  \n",
       "4215        (0, 0, 0)    0      0     0  \n",
       "4216  (255, 255, 255)  255    255   255  \n",
       "4217      (255, 0, 0)  255      0     0  \n",
       "4218  (255, 255, 255)  255    255   255  \n",
       "4219  (128, 128, 128)  128    128   128  \n",
       "4220  (255, 255, 255)  255    255   255  \n",
       "4221        (0, 0, 0)    0      0     0  \n",
       "4222    (255, 255, 0)  255    255     0  \n",
       "4223  (255, 255, 255)  255    255   255  \n",
       "4224  (255, 255, 255)  255    255   255  \n",
       "4225      (0, 255, 0)    0    255     0  \n",
       "4226      (255, 0, 0)  255      0     0  \n",
       "4227      (255, 0, 0)  255      0     0  \n",
       "4228        (0, 0, 0)    0      0     0  \n",
       "4229  (255, 255, 255)  255    255   255  \n",
       "4230        (0, 0, 0)    0      0     0  \n",
       "4231  (255, 255, 255)  255    255   255  \n",
       "4232      (255, 0, 0)  255      0     0  \n",
       "4233    (255, 165, 0)  255    165     0  \n",
       "4234      (255, 0, 0)  255      0     0  \n",
       "\n",
       "[4235 rows x 7 columns]"
      ]
     },
     "execution_count": 23,
     "metadata": {},
     "output_type": "execute_result"
    }
   ],
   "source": [
    "h = sorted(colors_df.name.str.len().as_matrix())\n",
    "import numpy as np\n",
    "import scipy.stats as stats\n",
    "import pylab as plt\n",
    "\n",
    "print(colors_df.columns)\n",
    "print(set(colors_df.name))\n",
    "#colors_df = colors_df.head(2000)\n",
    "#h\n",
    "#type(df2.noun.str)\n",
    "colors_df"
   ]
  },
  {
   "cell_type": "code",
   "execution_count": 24,
   "metadata": {},
   "outputs": [
    {
     "data": {
      "image/png": "[encoded data removed]",
      "text/plain": [
       "<matplotlib.figure.Figure at 0x1b57a70630>"
      ]
     },
     "metadata": {},
     "output_type": "display_data"
    }
   ],
   "source": [
    "\n",
    "fit = stats.norm.pdf(h, np.mean(h), np.std(h))  #this is a fitting indeed\n",
    "plt.plot(h,fit,'-o')\n",
    "plt.hist(h,normed=True)      #use this to draw histogram of your data\n",
    "plt.xlabel('Chars')\n",
    "plt.ylabel('Probability density')\n",
    "plt.show()"
   ]
  },
  {
   "cell_type": "code",
   "execution_count": 25,
   "metadata": {},
   "outputs": [
    {
     "data": {
      "text/plain": [
       "6"
      ]
     },
     "execution_count": 25,
     "metadata": {},
     "output_type": "execute_result"
    }
   ],
   "source": [
    "np.array(h).max()"
   ]
  },
  {
   "cell_type": "code",
   "execution_count": 26,
   "metadata": {},
   "outputs": [
    {
     "name": "stdout",
     "output_type": "stream",
     "text": [
      "Dimensions of data:  (4235, 7)\n",
      "Maximum context dimension:  165\n"
     ]
    },
    {
     "data": {
      "text/html": [
       "<div>\n",
       "<style scoped>\n",
       "    .dataframe tbody tr th:only-of-type {\n",
       "        vertical-align: middle;\n",
       "    }\n",
       "\n",
       "    .dataframe tbody tr th {\n",
       "        vertical-align: top;\n",
       "    }\n",
       "\n",
       "    .dataframe thead th {\n",
       "        text-align: right;\n",
       "    }\n",
       "</style>\n",
       "<table border=\"1\" class=\"dataframe\">\n",
       "  <thead>\n",
       "    <tr style=\"text-align: right;\">\n",
       "      <th></th>\n",
       "      <th>Unnamed: 0</th>\n",
       "      <th>name</th>\n",
       "      <th>context</th>\n",
       "      <th>code</th>\n",
       "      <th>red</th>\n",
       "      <th>green</th>\n",
       "      <th>blue</th>\n",
       "    </tr>\n",
       "  </thead>\n",
       "  <tbody>\n",
       "    <tr>\n",
       "      <th>0</th>\n",
       "      <td>2276</td>\n",
       "      <td>white</td>\n",
       "      <td>en trying catch tailor kept going came place o...</td>\n",
       "      <td>(255, 255, 255)</td>\n",
       "      <td>255</td>\n",
       "      <td>255</td>\n",
       "      <td>255</td>\n",
       "    </tr>\n",
       "    <tr>\n",
       "      <th>1</th>\n",
       "      <td>1660</td>\n",
       "      <td>pink</td>\n",
       "      <td>feather last night going laugh wear ribbons ca...</td>\n",
       "      <td>(255, 192, 203)</td>\n",
       "      <td>255</td>\n",
       "      <td>192</td>\n",
       "      <td>203</td>\n",
       "    </tr>\n",
       "    <tr>\n",
       "      <th>2</th>\n",
       "      <td>23</td>\n",
       "      <td>white</td>\n",
       "      <td>foam</td>\n",
       "      <td>(255, 255, 255)</td>\n",
       "      <td>255</td>\n",
       "      <td>255</td>\n",
       "      <td>255</td>\n",
       "    </tr>\n",
       "  </tbody>\n",
       "</table>\n",
       "</div>"
      ],
      "text/plain": [
       "   Unnamed: 0   name                                            context  \\\n",
       "0        2276  white  en trying catch tailor kept going came place o...   \n",
       "1        1660   pink  feather last night going laugh wear ribbons ca...   \n",
       "2          23  white                                               foam   \n",
       "\n",
       "              code  red  green  blue  \n",
       "0  (255, 255, 255)  255    255   255  \n",
       "1  (255, 192, 203)  255    192   203  \n",
       "2  (255, 255, 255)  255    255   255  "
      ]
     },
     "execution_count": 26,
     "metadata": {},
     "output_type": "execute_result"
    }
   ],
   "source": [
    "print(\"Dimensions of data: \", colors_df.shape)\n",
    "maxlen = np.max([len(x) for x in colors_df.context])\n",
    "print(\"Maximum context dimension: \", maxlen)\n",
    "colors_df.head(3)"
   ]
  },
  {
   "cell_type": "code",
   "execution_count": 27,
   "metadata": {},
   "outputs": [
    {
     "data": {
      "text/plain": [
       "array([ 0,  0,  0,  0,  0,  0,  0,  0,  0,  0,  0,  0,  0,  0,  0,  0,  0,\n",
       "        0,  0,  0,  0,  0,  0,  0,  0,  0,  0,  0,  0,  0,  0,  0,  0,  0,\n",
       "        0,  0,  0,  0,  0,  0,  0,  0,  0,  0,  0,  0,  0,  0,  0,  0,  0,\n",
       "        0,  0,  0,  0,  0,  0,  0,  0,  0,  0,  0,  0,  0,  0,  0,  0,  0,\n",
       "        0,  0,  0,  0,  0,  0,  0,  0,  0,  0,  0,  0,  2,  7,  1,  9,  5,\n",
       "       19,  8,  7, 13,  1, 14,  3,  9, 14, 12,  1,  9,  3,  8, 10,  6,  5,\n",
       "        1, 22,  2, 17,  9,  1, 13,  6,  8,  7, 13,  1, 14,  3, 16,  2,  1,\n",
       "       17, 10,  3, 14,  2,  1,  6, 10, 11,  1, 13,  3,  5,  5,  3, 15,  7,\n",
       "        1,  6, 10, 11,  1, 13,  3,  5,  5,  3, 15,  7,  1,  9,  6, 10, 11,\n",
       "        1,  9,  3,  8, 10,  6,  5,  1, 18,  8, 21,  2], dtype=int32)"
      ]
     },
     "execution_count": 27,
     "metadata": {},
     "output_type": "execute_result"
    }
   ],
   "source": [
    "\n",
    "t =Tokenizer(char_level=True)\n",
    "#t.fit_on_texts(df2.noun)\n",
    "t.fit_on_texts(colors_df.context)\n",
    "tokenized = t.texts_to_sequences(colors_df.context)\n",
    "padded_names = keras.preprocessing.sequence.pad_sequences(tokenized, maxlen=maxlen)\n",
    "#type(tokenized)\n",
    "padded_names[0]"
   ]
  },
  {
   "cell_type": "code",
   "execution_count": 28,
   "metadata": {},
   "outputs": [
    {
     "data": {
      "text/plain": [
       "28"
      ]
     },
     "execution_count": 28,
     "metadata": {},
     "output_type": "execute_result"
    }
   ],
   "source": [
    "\n",
    "one_hot_names = np_utils.to_categorical(padded_names)\n",
    "num_classes = one_hot_names.shape[-1]\n",
    "num_classes"
   ]
  },
  {
   "cell_type": "code",
   "execution_count": 29,
   "metadata": {},
   "outputs": [
    {
     "data": {
      "text/plain": [
       "(4235, 165, 28)"
      ]
     },
     "execution_count": 29,
     "metadata": {},
     "output_type": "execute_result"
    }
   ],
   "source": [
    "one_hot_names.shape"
   ]
  },
  {
   "cell_type": "code",
   "execution_count": 30,
   "metadata": {},
   "outputs": [
    {
     "data": {
      "text/plain": [
       "{' ': 1,\n",
       " 'a': 3,\n",
       " 'b': 20,\n",
       " 'c': 14,\n",
       " 'd': 11,\n",
       " 'e': 2,\n",
       " 'f': 21,\n",
       " 'g': 13,\n",
       " 'h': 12,\n",
       " 'i': 8,\n",
       " 'j': 25,\n",
       " 'k': 22,\n",
       " 'l': 10,\n",
       " 'm': 16,\n",
       " 'n': 7,\n",
       " 'o': 6,\n",
       " 'p': 17,\n",
       " 'q': 26,\n",
       " 'r': 5,\n",
       " 's': 4,\n",
       " 't': 9,\n",
       " 'u': 15,\n",
       " 'v': 23,\n",
       " 'w': 18,\n",
       " 'x': 24,\n",
       " 'y': 19,\n",
       " 'z': 27}"
      ]
     },
     "execution_count": 30,
     "metadata": {},
     "output_type": "execute_result"
    }
   ],
   "source": [
    "t.word_index"
   ]
  },
  {
   "cell_type": "code",
   "execution_count": 31,
   "metadata": {},
   "outputs": [
    {
     "data": {
      "text/plain": [
       "{'black',\n",
       " 'blue',\n",
       " 'brown',\n",
       " 'green',\n",
       " 'grey',\n",
       " 'orange',\n",
       " 'pink',\n",
       " 'red',\n",
       " 'white',\n",
       " 'yellow'}"
      ]
     },
     "execution_count": 31,
     "metadata": {},
     "output_type": "execute_result"
    }
   ],
   "source": [
    "#set(df2.color)\n",
    "set(colors_df.name)"
   ]
  },
  {
   "cell_type": "code",
   "execution_count": 32,
   "metadata": {},
   "outputs": [
    {
     "name": "stdout",
     "output_type": "stream",
     "text": [
      "Number of classes: 28\n",
      "One hot bins shape:  (4235, 165, 28)\n"
     ]
    }
   ],
   "source": [
    "from keras.utils import np_utils\n",
    "one_hot_names = np_utils.to_categorical(padded_names)\n",
    "num_classes = one_hot_names.shape[-1]\n",
    "print('Number of classes: %s'%(num_classes))\n",
    "print('One hot bins shape: ', one_hot_names.shape)"
   ]
  },
  {
   "cell_type": "code",
   "execution_count": null,
   "metadata": {},
   "outputs": [],
   "source": []
  },
  {
   "cell_type": "code",
   "execution_count": 33,
   "metadata": {},
   "outputs": [
    {
     "data": {
      "text/html": [
       "<div>\n",
       "<style scoped>\n",
       "    .dataframe tbody tr th:only-of-type {\n",
       "        vertical-align: middle;\n",
       "    }\n",
       "\n",
       "    .dataframe tbody tr th {\n",
       "        vertical-align: top;\n",
       "    }\n",
       "\n",
       "    .dataframe thead th {\n",
       "        text-align: right;\n",
       "    }\n",
       "</style>\n",
       "<table border=\"1\" class=\"dataframe\">\n",
       "  <thead>\n",
       "    <tr style=\"text-align: right;\">\n",
       "      <th></th>\n",
       "      <th>name</th>\n",
       "      <th>context</th>\n",
       "      <th>code</th>\n",
       "      <th>red</th>\n",
       "      <th>green</th>\n",
       "      <th>blue</th>\n",
       "    </tr>\n",
       "  </thead>\n",
       "  <tbody>\n",
       "    <tr>\n",
       "      <th>0</th>\n",
       "      <td>white</td>\n",
       "      <td>en trying catch tailor kept going came place o...</td>\n",
       "      <td>(255, 255, 255)</td>\n",
       "      <td>255</td>\n",
       "      <td>255</td>\n",
       "      <td>255</td>\n",
       "    </tr>\n",
       "    <tr>\n",
       "      <th>1</th>\n",
       "      <td>pink</td>\n",
       "      <td>feather last night going laugh wear ribbons ca...</td>\n",
       "      <td>(255, 192, 203)</td>\n",
       "      <td>255</td>\n",
       "      <td>192</td>\n",
       "      <td>203</td>\n",
       "    </tr>\n",
       "    <tr>\n",
       "      <th>2</th>\n",
       "      <td>white</td>\n",
       "      <td>foam</td>\n",
       "      <td>(255, 255, 255)</td>\n",
       "      <td>255</td>\n",
       "      <td>255</td>\n",
       "      <td>255</td>\n",
       "    </tr>\n",
       "    <tr>\n",
       "      <th>3</th>\n",
       "      <td>orange</td>\n",
       "      <td>r clients stock would like certainly enough ju...</td>\n",
       "      <td>(255, 165, 0)</td>\n",
       "      <td>255</td>\n",
       "      <td>165</td>\n",
       "      <td>0</td>\n",
       "    </tr>\n",
       "  </tbody>\n",
       "</table>\n",
       "</div>"
      ],
      "text/plain": [
       "     name                                            context             code  \\\n",
       "0   white  en trying catch tailor kept going came place o...  (255, 255, 255)   \n",
       "1    pink  feather last night going laugh wear ribbons ca...  (255, 192, 203)   \n",
       "2   white                                               foam  (255, 255, 255)   \n",
       "3  orange  r clients stock would like certainly enough ju...    (255, 165, 0)   \n",
       "\n",
       "   red  green  blue  \n",
       "0  255    255   255  \n",
       "1  255    192   203  \n",
       "2  255    255   255  \n",
       "3  255    165     0  "
      ]
     },
     "execution_count": 33,
     "metadata": {},
     "output_type": "execute_result"
    }
   ],
   "source": [
    "colors_df=colors_df[['name','context', 'code', 'red', 'green', 'blue']]\n",
    "colors_df.head(4)"
   ]
  },
  {
   "cell_type": "code",
   "execution_count": 34,
   "metadata": {},
   "outputs": [
    {
     "name": "stdout",
     "output_type": "stream",
     "text": [
      "Maximum context lenght:  165\n"
     ]
    }
   ],
   "source": [
    "#word2vec.wv(colors_df.context)\n",
    "length=np.max([len(x) for x in colors_df.context])\n",
    "print('Maximum context lenght: ',length)"
   ]
  },
  {
   "cell_type": "code",
   "execution_count": 35,
   "metadata": {},
   "outputs": [],
   "source": [
    "#words = list(word2vec.wv.vocab)\n",
    "#print(words[:3])"
   ]
  },
  {
   "cell_type": "code",
   "execution_count": 36,
   "metadata": {},
   "outputs": [],
   "source": [
    "#word2vec.most_similar(positive=['woman', 'king'], negative=['man'], topn=1)\n",
    "#print(result)\n"
   ]
  },
  {
   "cell_type": "code",
   "execution_count": 37,
   "metadata": {},
   "outputs": [],
   "source": [
    "all_text=' '.join(colors_df.context)\n",
    "my_char_list=list(set(all_text))"
   ]
  },
  {
   "cell_type": "code",
   "execution_count": 38,
   "metadata": {},
   "outputs": [],
   "source": [
    "#create dictionary for the characters to integers\n",
    "characters = sorted(my_char_list)\n",
    "dictionary_char_int = dict((c, i) for i, c in enumerate(characters))"
   ]
  },
  {
   "cell_type": "markdown",
   "metadata": {},
   "source": [
    "#### Summary"
   ]
  },
  {
   "cell_type": "code",
   "execution_count": 39,
   "metadata": {},
   "outputs": [
    {
     "name": "stdout",
     "output_type": "stream",
     "text": [
      "Total Characters:  356776\n",
      "Total Vocab:  27\n",
      "Total Patterns:  4235\n"
     ]
    }
   ],
   "source": [
    "\n",
    "number_chars = len(all_text)\n",
    "number_vocabulary = len(characters)\n",
    "print (\"Total Characters: \", number_chars)\n",
    "print (\"Total Vocab: \", number_vocabulary)\n",
    "\n",
    "vocab_size = length\n",
    "\n",
    "# prepare the dataset of input to output pairs encoded as integers\n",
    "#seq_length = 100\n",
    "dataX = []\n",
    "dataY = []\n",
    "for i in range(len(one_hot_names)):\n",
    "    #inn = colors_df.iloc[i,1]\n",
    "    inn = one_hot_names[i]\n",
    "    #outt = [colors_df.iloc[i,3]/255, colors_df.iloc[i,4]/255, colors_df.iloc[i,5]/255] # normalize values\n",
    "    #outt = [colors_df.red[i]/255, colors_df.green[i]/255, colors_df.blue[i]/255] # normalize values\n",
    "    outt = np.column_stack([colors_df.red[i]/255, colors_df.green[i]/255, colors_df.blue[i]/255]) # normalize values\n",
    "    #np.column_stack([norm(data[\"red\"]), norm(data[\"green\"]), norm(data[\"blue\"])])\n",
    "    #dataX.append([dictionary_char_int[c] for c in inn])\n",
    "    dataX.append(inn)\n",
    "    dataY.append(outt)\n",
    "n_patterns = len(dataX)\n",
    "print (\"Total Patterns: \", n_patterns)\n",
    "dataY = np.column_stack([colors_df.red/255, colors_df.green/255, colors_df.blue/255])\n",
    "#dataY=np.array(dataY[0])\n",
    "#one_hot_names=np.array(one_hot_names[0])\n",
    "#one_hot_names[0]"
   ]
  },
  {
   "cell_type": "code",
   "execution_count": 40,
   "metadata": {},
   "outputs": [],
   "source": [
    "#dataY=np.array([dataY[0]])\n"
   ]
  },
  {
   "cell_type": "code",
   "execution_count": 41,
   "metadata": {},
   "outputs": [
    {
     "name": "stdout",
     "output_type": "stream",
     "text": [
      "white\n"
     ]
    }
   ],
   "source": [
    "#print([k for (k,v) in colors_df.items()])\n",
    "print( colors_df.iloc[0,0])"
   ]
  },
  {
   "cell_type": "code",
   "execution_count": 42,
   "metadata": {},
   "outputs": [],
   "source": [
    "#padd_docs = keras.preprocessing.sequence.pad_sequences(dataX, maxlen=length, padding='post')\n",
    "#padd_docs[57]\n",
    "#padd_docs = numpy.reshape(padd_docs, (padd_docs.shape[0], 1, padd_docs.shape[1]))\n"
   ]
  },
  {
   "cell_type": "code",
   "execution_count": 43,
   "metadata": {},
   "outputs": [
    {
     "name": "stdout",
     "output_type": "stream",
     "text": [
      "Contexts number:  165\n"
     ]
    }
   ],
   "source": [
    "print('Contexts number: ',length)"
   ]
  },
  {
   "cell_type": "code",
   "execution_count": 44,
   "metadata": {},
   "outputs": [
    {
     "name": "stdout",
     "output_type": "stream",
     "text": [
      "_________________________________________________________________\n",
      "Layer (type)                 Output Shape              Param #   \n",
      "=================================================================\n",
      "lstm_1 (LSTM)                (None, 165, 256)          291840    \n",
      "_________________________________________________________________\n",
      "dropout_1 (Dropout)          (None, 165, 256)          0         \n",
      "_________________________________________________________________\n",
      "lstm_2 (LSTM)                (None, 165, 128)          197120    \n",
      "_________________________________________________________________\n",
      "dropout_2 (Dropout)          (None, 165, 128)          0         \n",
      "_________________________________________________________________\n",
      "lstm_3 (LSTM)                (None, 128)               131584    \n",
      "_________________________________________________________________\n",
      "dropout_3 (Dropout)          (None, 128)               0         \n",
      "_________________________________________________________________\n",
      "dense_1 (Dense)              (None, 128)               16512     \n",
      "_________________________________________________________________\n",
      "dense_2 (Dense)              (None, 3)                 387       \n",
      "=================================================================\n",
      "Total params: 637,443\n",
      "Trainable params: 637,443\n",
      "Non-trainable params: 0\n",
      "_________________________________________________________________\n"
     ]
    }
   ],
   "source": [
    "model = Sequential()\n",
    "model.add(LSTM(256,  input_shape=(length,num_classes),return_sequences=True))#\n",
    "model.add(Dropout(0.1))\n",
    "model.add(LSTM(128,return_sequences=True))#, activation='relu'))\n",
    "model.add(Dropout(0.1))\n",
    "model.add(LSTM(128))#, activation='relu')) #relu\n",
    "model.add(Dropout(0.1))\n",
    "#model.add(LSTM(512))\n",
    "model.add(Dense(128))#, activation='relu'))# sigmoid#relu\n",
    "#model.add(Dropout(0.1))\n",
    "model.add(Dense(3, activation='softmax'))#sigmoid#softmax\n",
    "adam = keras.optimizers.Adam(lr=0.000001, beta_1=0.9, beta_2=0.999, epsilon=None, decay=0.0, amsgrad=False)\n",
    "#opt = SGD(lr=0.0001, decay=1e-6, momentum=0.9, nesterov=True)\n",
    "model.compile(loss = \"categorical_crossentropy\", optimizer = adam , metrics=['acc']) #, optimizer='rmsprop'\n",
    "\n",
    "#from https://keras.io/callbacks/\n",
    "early_stopping = EarlyStopping(monitor='val_acc', min_delta=0, patience=5, verbose=0)#, restore_best_weights=False)# monitor='val_loss'\n",
    "checkpointer = ModelCheckpoint('model_best_{val_acc:.2f}.hdf5', monitor='val_acc', verbose=1, save_best_only=True)#weights.{epoch:02d}-{val_loss:.2f}.hdf5 #monitor='val_loss'#{val_loss:.2f}\n",
    "\n",
    "#finetuned_model.fit_generator(batches, steps_per_epoch=num_train_steps, epochs=10, callbacks=[early_stopping, checkpointer], validation_data=val_batches, validation_steps=num_valid_steps)\n",
    "\n",
    "\n",
    "\n",
    "#model.compile(optimizer='adam', loss='mse', metrics=['acc'])\n",
    "model.summary()"
   ]
  },
  {
   "cell_type": "code",
   "execution_count": 45,
   "metadata": {
    "scrolled": false
   },
   "outputs": [
    {
     "name": "stdout",
     "output_type": "stream",
     "text": [
      "Train on 3811 samples, validate on 424 samples\n",
      "Epoch 1/120\n",
      "3811/3811 [==============================] - 205s 54ms/step - loss: 1.5266 - acc: 0.3713 - val_loss: 1.4189 - val_acc: 0.4575\n",
      "\n",
      "Epoch 00001: val_acc improved from -inf to 0.45755, saving model to model_best_0.46.hdf5\n",
      "Epoch 2/120\n",
      "3811/3811 [==============================] - 193s 51ms/step - loss: 1.5259 - acc: 0.5012 - val_loss: 1.4184 - val_acc: 0.5472\n",
      "\n",
      "Epoch 00002: val_acc improved from 0.45755 to 0.54717, saving model to model_best_0.55.hdf5\n",
      "Epoch 3/120\n",
      "3811/3811 [==============================] - 192s 50ms/step - loss: 1.5253 - acc: 0.6140 - val_loss: 1.4179 - val_acc: 0.6439\n",
      "\n",
      "Epoch 00003: val_acc improved from 0.54717 to 0.64387, saving model to model_best_0.64.hdf5\n",
      "Epoch 4/120\n",
      "3811/3811 [==============================] - 193s 51ms/step - loss: 1.5247 - acc: 0.6877 - val_loss: 1.4174 - val_acc: 0.7241\n",
      "\n",
      "Epoch 00004: val_acc improved from 0.64387 to 0.72406, saving model to model_best_0.72.hdf5\n",
      "Epoch 5/120\n",
      "3811/3811 [==============================] - 192s 50ms/step - loss: 1.5240 - acc: 0.7442 - val_loss: 1.4169 - val_acc: 0.7618\n",
      "\n",
      "Epoch 00005: val_acc improved from 0.72406 to 0.76179, saving model to model_best_0.76.hdf5\n",
      "Epoch 6/120\n",
      "3811/3811 [==============================] - 193s 51ms/step - loss: 1.5235 - acc: 0.7665 - val_loss: 1.4164 - val_acc: 0.7759\n",
      "\n",
      "Epoch 00006: val_acc improved from 0.76179 to 0.77594, saving model to model_best_0.78.hdf5\n",
      "Epoch 7/120\n",
      "3811/3811 [==============================] - 193s 51ms/step - loss: 1.5229 - acc: 0.7780 - val_loss: 1.4159 - val_acc: 0.7759\n",
      "\n",
      "Epoch 00007: val_acc did not improve\n",
      "Epoch 8/120\n",
      "3811/3811 [==============================] - 195s 51ms/step - loss: 1.5223 - acc: 0.7788 - val_loss: 1.4155 - val_acc: 0.7759\n",
      "\n",
      "Epoch 00008: val_acc did not improve\n",
      "Epoch 9/120\n",
      "3811/3811 [==============================] - 195s 51ms/step - loss: 1.5217 - acc: 0.7793 - val_loss: 1.4150 - val_acc: 0.7759\n",
      "\n",
      "Epoch 00009: val_acc did not improve\n",
      "Epoch 10/120\n",
      "3811/3811 [==============================] - 194s 51ms/step - loss: 1.5211 - acc: 0.7796 - val_loss: 1.4146 - val_acc: 0.7759\n",
      "\n",
      "Epoch 00010: val_acc did not improve\n",
      "Epoch 11/120\n",
      "3811/3811 [==============================] - 194s 51ms/step - loss: 1.5206 - acc: 0.7798 - val_loss: 1.4142 - val_acc: 0.7759\n",
      "\n",
      "Epoch 00011: val_acc did not improve\n",
      "Epoch 12/120\n",
      "3811/3811 [==============================] - 194s 51ms/step - loss: 1.5201 - acc: 0.7798 - val_loss: 1.4139 - val_acc: 0.7759\n",
      "\n",
      "Epoch 00012: val_acc did not improve\n",
      "Epoch 13/120\n",
      "3811/3811 [==============================] - 194s 51ms/step - loss: 1.5198 - acc: 0.7798 - val_loss: 1.4135 - val_acc: 0.7759\n",
      "\n",
      "Epoch 00013: val_acc did not improve\n",
      "Epoch 14/120\n",
      "3811/3811 [==============================] - 194s 51ms/step - loss: 1.5194 - acc: 0.7798 - val_loss: 1.4132 - val_acc: 0.7759\n",
      "\n",
      "Epoch 00014: val_acc did not improve\n"
     ]
    }
   ],
   "source": [
    "history = model.fit(one_hot_names, dataY,\n",
    "                    epochs=120,\n",
    "                    batch_size=32,\n",
    "                    validation_split=0.1,\n",
    "                   shuffle=True, callbacks=[early_stopping, checkpointer])\n",
    "model.save('model_final.hdf5')"
   ]
  },
  {
   "cell_type": "code",
   "execution_count": 46,
   "metadata": {},
   "outputs": [
    {
     "data": {
      "text/plain": [
       "array([1., 1., 1.])"
      ]
     },
     "execution_count": 46,
     "metadata": {},
     "output_type": "execute_result"
    }
   ],
   "source": [
    "dataY[0]"
   ]
  },
  {
   "cell_type": "code",
   "execution_count": 47,
   "metadata": {},
   "outputs": [
    {
     "data": {
      "text/plain": [
       "array([[1., 0., 0., ..., 0., 0., 0.],\n",
       "       [1., 0., 0., ..., 0., 0., 0.],\n",
       "       [1., 0., 0., ..., 0., 0., 0.],\n",
       "       ...,\n",
       "       [0., 0., 0., ..., 0., 0., 0.],\n",
       "       [0., 0., 0., ..., 0., 0., 0.],\n",
       "       [0., 0., 1., ..., 0., 0., 0.]])"
      ]
     },
     "execution_count": 47,
     "metadata": {},
     "output_type": "execute_result"
    }
   ],
   "source": [
    "dataX[0]"
   ]
  },
  {
   "cell_type": "code",
   "execution_count": 48,
   "metadata": {},
   "outputs": [],
   "source": [
    "def remove_stop_punct(text):\n",
    "    tokenized = [w.lower() for w in text if not re.fullmatch('[' + string.punctuation + ']+', w)]\n",
    "    #print(tokenized)\n",
    "    \n",
    "    processed_data=[w for w in tokenized if w not in stopwords.words(\"english\")]\n",
    "    \n",
    "    output = [re.sub(r'\\d+', '', w) for w in processed_data] #remove numbers\n",
    "    #'hello467'.translate(None, '0123456789')\n",
    "    output = [word.lower() for word in output if word.isalpha()]\n",
    "    output = [word.encode('ascii',errors='ignore').decode() for word in output]\n",
    "    output = [word for word in output if len(word)!=0]\n",
    "    return output\n",
    "    #return ''.join(tokenized)"
   ]
  },
  {
   "cell_type": "code",
   "execution_count": 49,
   "metadata": {},
   "outputs": [],
   "source": [
    "def get_plot(pred):\n",
    "    plt.figure(figsize=(2,2))\n",
    "    colors=[[pred]]\n",
    "    im = plt.imshow(colors, interpolation='nearest', aspect='auto')\n",
    "    plt.colorbar(im, orientation='vertical')\n",
    "    plt.show()"
   ]
  },
  {
   "cell_type": "code",
   "execution_count": 73,
   "metadata": {},
   "outputs": [],
   "source": [
    "#text no longer than the length=171\n",
    "def get_color_from_text(text):\n",
    "    text = remove_stop_punct(text)\n",
    "    #t =Tokenizer(char_level=True)\n",
    "    #t.fit_on_texts(df2.noun)\n",
    "    #t.fit_on_texts(text)\n",
    "    tokenized = t.texts_to_sequences([text])\n",
    "    pad = keras.preprocessing.sequence.pad_sequences(tokenized, maxlen=maxlen)\n",
    "    one_hot = np_utils.to_categorical(pad, num_classes=num_classes)\n",
    "    pred = (model.predict(np.array(one_hot))[0])#*255\n",
    "    #pred = [float(x) for x in pred ]\n",
    "    print(\"Colors predicted: \", pred)\n",
    "    \n",
    "    return pred"
   ]
  },
  {
   "cell_type": "code",
   "execution_count": 74,
   "metadata": {},
   "outputs": [
    {
     "name": "stdout",
     "output_type": "stream",
     "text": [
      "Colors predicted:  [0.3708295  0.3288959  0.30027464]\n"
     ]
    },
    {
     "data": {
      "image/png": "[encoded data removed]",
      "text/plain": [
       "<matplotlib.figure.Figure at 0x1b5d2c4da0>"
      ]
     },
     "metadata": {},
     "output_type": "display_data"
    }
   ],
   "source": [
    "get_plot(get_color_from_text('green grass'))"
   ]
  },
  {
   "cell_type": "code",
   "execution_count": 52,
   "metadata": {},
   "outputs": [
    {
     "name": "stdout",
     "output_type": "stream",
     "text": [
      "Colors predicted:  [0.3499405 0.333139  0.3169205]\n"
     ]
    },
    {
     "data": {
      "image/png": "[encoded data removed]",
      "text/plain": [
       "<matplotlib.figure.Figure at 0x110c4bfd0>"
      ]
     },
     "metadata": {},
     "output_type": "display_data"
    }
   ],
   "source": [
    "get_plot(get_color_from_text(colors_df[colors_df.name=='red'].iloc[0,:].context))\n"
   ]
  },
  {
   "cell_type": "code",
   "execution_count": 53,
   "metadata": {},
   "outputs": [
    {
     "name": "stdout",
     "output_type": "stream",
     "text": [
      "Colors predicted:  [0.36713243 0.33056155 0.30230603]\n"
     ]
    },
    {
     "data": {
      "text/plain": [
       "array([0.36713243, 0.33056155, 0.30230603], dtype=float32)"
      ]
     },
     "execution_count": 53,
     "metadata": {},
     "output_type": "execute_result"
    }
   ],
   "source": [
    "get_color_from_text(colors_df[colors_df.name=='black'].iloc[0,:].context)"
   ]
  },
  {
   "cell_type": "code",
   "execution_count": 54,
   "metadata": {},
   "outputs": [
    {
     "name": "stdout",
     "output_type": "stream",
     "text": [
      "Colors predicted:  [0.35620162 0.334905   0.30889338]\n"
     ]
    },
    {
     "data": {
      "image/png": "[encoded data removed]",
      "text/plain": [
       "<matplotlib.figure.Figure at 0x1b27ba7320>"
      ]
     },
     "metadata": {},
     "output_type": "display_data"
    }
   ],
   "source": [
    "get_plot(get_color_from_text('find the reason to do what you want to do'))"
   ]
  },
  {
   "cell_type": "code",
   "execution_count": 55,
   "metadata": {},
   "outputs": [
    {
     "name": "stdout",
     "output_type": "stream",
     "text": [
      "Colors predicted:  [0.36949682 0.32953995 0.30096325]\n"
     ]
    },
    {
     "data": {
      "image/png": "[encoded data removed]",
      "text/plain": [
       "<matplotlib.figure.Figure at 0x1b5c5240f0>"
      ]
     },
     "metadata": {},
     "output_type": "display_data"
    }
   ],
   "source": [
    "get_plot(get_color_from_text('find '))"
   ]
  },
  {
   "cell_type": "code",
   "execution_count": 56,
   "metadata": {},
   "outputs": [],
   "source": [
    "from nltk import tokenize\n",
    "def get_chunks(text):\n",
    "    sentences = tokenize.sent_tokenize(text)\n",
    "    colors = [get_color_from_text(s) for s in sentences]\n",
    "    return colors"
   ]
  },
  {
   "cell_type": "code",
   "execution_count": 57,
   "metadata": {},
   "outputs": [
    {
     "name": "stdout",
     "output_type": "stream",
     "text": [
      "Colors predicted:  [0.36795253 0.33067563 0.30137184]\n",
      "Colors predicted:  [0.36949682 0.32953995 0.30096325]\n",
      "Colors predicted:  [0.35620162 0.334905   0.30889338]\n"
     ]
    }
   ],
   "source": [
    "data = get_chunks('I am here. Find it. find the reason to do what you want to do.')"
   ]
  },
  {
   "cell_type": "code",
   "execution_count": 58,
   "metadata": {},
   "outputs": [],
   "source": [
    "import mpl_toolkits.axes_grid1 as axes_grid1\n",
    "#np.random.seed(1)\n",
    "\n",
    "#data = np.random.randn(10, 10)\n",
    "\n",
    "def plot_all_text(data):\n",
    "    \n",
    "    fig = plt.figure(figsize=(15,5))\n",
    "    grid = axes_grid1.AxesGrid(\n",
    "        fig, 111, nrows_ncols=(1, 1), axes_pad = 0.5, cbar_location = \"right\",\n",
    "        cbar_mode=\"each\", cbar_size=\"15%\", cbar_pad=\"5%\",)\n",
    "\n",
    "    #im0 = grid[0].imshow(data, cmap='gray', interpolation='nearest')\n",
    "    #im0 = grid[0].imshow(data, cmap='gray', interpolation='nearest')\n",
    "    #grid.cbar_axes[0].colorbar(im0)\n",
    "\n",
    "    im1 = grid[0].imshow(data, cmap='jet', interpolation='nearest')\n",
    "    grid.cbar_axes[0].colorbar(im1)\n",
    "    plt.savefig('/tmp/test.png', bbox_inches='tight', pad_inches=0.0, dpi=200,)"
   ]
  },
  {
   "cell_type": "code",
   "execution_count": 59,
   "metadata": {},
   "outputs": [
    {
     "data": {
      "image/png": "[encoded data removed]",
      "text/plain": [
       "<matplotlib.figure.Figure at 0x1b281f2cc0>"
      ]
     },
     "metadata": {},
     "output_type": "display_data"
    }
   ],
   "source": [
    "plot_all_text(data)"
   ]
  },
  {
   "cell_type": "code",
   "execution_count": 60,
   "metadata": {},
   "outputs": [
    {
     "name": "stdout",
     "output_type": "stream",
     "text": [
      "*** Introductory Examples for the NLTK Book ***\n",
      "Loading text1, ..., text9 and sent1, ..., sent9\n",
      "Type the name of the text or sentence to view it.\n",
      "Type: 'texts()' or 'sents()' to list the materials.\n",
      "text1: Moby Dick by Herman Melville 1851\n",
      "text2: Sense and Sensibility by Jane Austen 1811\n",
      "text3: The Book of Genesis\n",
      "text4: Inaugural Address Corpus\n",
      "text5: Chat Corpus\n",
      "text6: Monty Python and the Holy Grail\n",
      "text7: Wall Street Journal\n",
      "text8: Personals Corpus\n",
      "text9: The Man Who Was Thursday by G . K . Chesterton 1908\n"
     ]
    },
    {
     "data": {
      "text/plain": [
       "['[', 'Moby', 'Dick', 'by', 'Herman', 'Melville', '1851', ']']"
      ]
     },
     "execution_count": 60,
     "metadata": {},
     "output_type": "execute_result"
    }
   ],
   "source": [
    "from nltk.book import *\n",
    "moby = nltk.Text(gutenberg.sents('melville-moby_dick.txt'))\n",
    "#moby.collocations()\n",
    "moby.tokens[0]"
   ]
  },
  {
   "cell_type": "code",
   "execution_count": 61,
   "metadata": {},
   "outputs": [
    {
     "data": {
      "text/plain": [
       "'moby dick herman melville'"
      ]
     },
     "execution_count": 61,
     "metadata": {},
     "output_type": "execute_result"
    }
   ],
   "source": [
    "' '.join(remove_stop_punct(moby.tokens[0]))"
   ]
  },
  {
   "cell_type": "code",
   "execution_count": 62,
   "metadata": {},
   "outputs": [],
   "source": [
    "#moby = [remove_stop_punct((' '.join(s))) for s in moby]\n",
    "moby_sents = [' '.join(remove_stop_punct(s)) for s in moby.tokens]"
   ]
  },
  {
   "cell_type": "code",
   "execution_count": 63,
   "metadata": {},
   "outputs": [
    {
     "data": {
      "text/plain": [
       "['[', 'Moby', 'Dick', 'by', 'Herman', 'Melville', '1851', ']']"
      ]
     },
     "execution_count": 63,
     "metadata": {},
     "output_type": "execute_result"
    }
   ],
   "source": [
    "moby[0]"
   ]
  },
  {
   "cell_type": "code",
   "execution_count": 67,
   "metadata": {},
   "outputs": [
    {
     "data": {
      "text/plain": [
       "'moby dick herman melville. etymology. supplied late consumptive usher grammar school. pale usher threadbare coat heart body brain see. ever dusting old lexicons grammars queer handkerchief mockingly embellished gay flags known nations world. loved dust old grammars somehow mildly reminded mortality. take hand school others teach name whale fish called tongue leaving ignorance letter h almost alone maketh signification word deliver true. hackluyt. whale. sw dan. hval. animal named roundness rolling dan. hvalt arched vaulted. webster dictionary. whale'"
      ]
     },
     "execution_count": 67,
     "metadata": {},
     "output_type": "execute_result"
    }
   ],
   "source": [
    "moby_text ='. '.join(moby_sents[:15])\n",
    "moby_text"
   ]
  },
  {
   "cell_type": "code",
   "execution_count": 68,
   "metadata": {},
   "outputs": [
    {
     "name": "stdout",
     "output_type": "stream",
     "text": [
      "Colors predicted:  [0.35650262 0.3335453  0.30995205]\n",
      "Colors predicted:  [0.36915386 0.32956135 0.3012848 ]\n",
      "Colors predicted:  [0.34999862 0.3361806  0.3138208 ]\n",
      "Colors predicted:  [0.3475986  0.33851603 0.31388533]\n",
      "Colors predicted:  [0.34894213 0.3336509  0.31740698]\n",
      "Colors predicted:  [0.35391936 0.33454555 0.31153503]\n",
      "Colors predicted:  [0.34965616 0.3352912  0.3150526 ]\n",
      "Colors predicted:  [0.36704752 0.33015957 0.3027929 ]\n",
      "Colors predicted:  [0.36925605 0.3301678  0.3005762 ]\n",
      "Colors predicted:  [0.36999595 0.32960194 0.30040213]\n",
      "Colors predicted:  [0.3704066  0.32948956 0.3001038 ]\n",
      "Colors predicted:  [0.35393453 0.33387786 0.3121876 ]\n",
      "Colors predicted:  [0.3599763  0.33304173 0.30698198]\n",
      "Colors predicted:  [0.35946992 0.33436    0.30617005]\n",
      "Colors predicted:  [0.36925605 0.3301678  0.3005762 ]\n"
     ]
    }
   ],
   "source": [
    "chunks = get_chunks(moby_text)"
   ]
  },
  {
   "cell_type": "code",
   "execution_count": 69,
   "metadata": {},
   "outputs": [
    {
     "data": {
      "image/png": "[encoded data removed]",
      "text/plain": [
       "<matplotlib.figure.Figure at 0x1b281ae940>"
      ]
     },
     "metadata": {},
     "output_type": "display_data"
    }
   ],
   "source": [
    "plot_all_text(chunks)"
   ]
  },
  {
   "cell_type": "code",
   "execution_count": 72,
   "metadata": {},
   "outputs": [
    {
     "name": "stdout",
     "output_type": "stream",
     "text": [
      "Colors predicted:  [0.36699983 0.3305624  0.30243775]\n"
     ]
    },
    {
     "data": {
      "image/png": "[encoded data removed]",
      "text/plain": [
       "<matplotlib.figure.Figure at 0x1b5d8356a0>"
      ]
     },
     "metadata": {},
     "output_type": "display_data"
    }
   ],
   "source": [
    "get_plot(get_color_from_text('blue'))"
   ]
  },
  {
   "cell_type": "code",
   "execution_count": 75,
   "metadata": {},
   "outputs": [],
   "source": [
    "word_embds = model.layers[0].get_weights() #get the word embeddings"
   ]
  },
  {
   "cell_type": "code",
   "execution_count": 78,
   "metadata": {},
   "outputs": [],
   "source": [
    "word_list = []\n",
    "for word, i in t.word_index.items():\n",
    "    word_list.append(word)"
   ]
  },
  {
   "cell_type": "code",
   "execution_count": 89,
   "metadata": {
    "scrolled": false
   },
   "outputs": [
    {
     "data": {
      "application/vnd.plotly.v1+json": {
       "config": {
        "linkText": "Export to plot.ly",
        "plotlyServerURL": "https://plot.ly",
        "showLink": true
       },
       "data": [
        {
         "mode": "markers",
         "text": [
          " ",
          "e",
          "a",
          "s",
          "r",
          "o",
          "n",
          "i",
          "t",
          "l",
          "d",
          "h",
          "g",
          "c",
          "u",
          "m",
          "p",
          "w",
          "y",
          "b",
          "f",
          "k",
          "v",
          "x",
          "j",
          "q",
          "z"
         ],
         "type": "scatter",
         "uid": "976668cc-46e5-4717-a25f-a78de78221d7",
         "x": [
          159.10299682617188,
          139.1963348388672,
          -124.90876770019531,
          64.61531066894531,
          -162.1566619873047,
          87.57599639892578,
          -104.6557388305664,
          18.14472198486328,
          -41.94021224975586,
          -277.1678771972656,
          218.08949279785156,
          -21.03046989440918,
          -142.3081512451172,
          13.510171890258789,
          -185.32952880859375,
          71.47899627685547,
          167.322265625,
          -51.6374397277832,
          182.2823486328125,
          89.9710922241211,
          34.675384521484375,
          -73.64897155761719,
          -97.24862670898438,
          41.149566650390625,
          -19.660219192504883,
          28.827842712402344,
          -44.89982223510742,
          105.4021987915039
         ],
         "y": [
          159.50448608398438,
          -11.877192497253418,
          142.30906677246094,
          -16.5068302154541,
          -83.72064208984375,
          51.22665786743164,
          -146.0317840576172,
          109.06322479248047,
          -92.86951446533203,
          47.53834915161133,
          1.5109037160873413,
          -20.96646499633789,
          63.76234817504883,
          37.269004821777344,
          -1.6884593963623047,
          -150.4352264404297,
          70.34886932373047,
          95.82892608642578,
          -96.90910339355469,
          123.47947692871094,
          -226.05543518066406,
          29.599708557128906,
          -39.2381477355957,
          192.8846435546875,
          -164.63099670410156,
          -78.55448913574219,
          180.37240600585938,
          -84.17741394042969
         ]
        }
       ],
       "layout": {
        "hovermode": "closest",
        "title": "t-SNE 1 vs t-SNE 2 for sirst 1000 words ",
        "xaxis": {
         "title": "t-SNE 1"
        },
        "yaxis": {
         "title": "t-SNE 2"
        }
       }
      },
      "text/html": [
       "<div id=\"1dbb1119-839d-48c4-8313-55722ca3dc99\" style=\"height: 525px; width: 100%;\" class=\"plotly-graph-div\"></div><script type=\"text/javascript\">require([\"plotly\"], function(Plotly) { window.PLOTLYENV=window.PLOTLYENV || {};window.PLOTLYENV.BASE_URL=\"https://plot.ly\";Plotly.newPlot(\"1dbb1119-839d-48c4-8313-55722ca3dc99\", [{\"mode\": \"markers\", \"text\": [\" \", \"e\", \"a\", \"s\", \"r\", \"o\", \"n\", \"i\", \"t\", \"l\", \"d\", \"h\", \"g\", \"c\", \"u\", \"m\", \"p\", \"w\", \"y\", \"b\", \"f\", \"k\", \"v\", \"x\", \"j\", \"q\", \"z\"], \"x\": [159.10299682617188, 139.1963348388672, -124.90876770019531, 64.61531066894531, -162.1566619873047, 87.57599639892578, -104.6557388305664, 18.14472198486328, -41.94021224975586, -277.1678771972656, 218.08949279785156, -21.03046989440918, -142.3081512451172, 13.510171890258789, -185.32952880859375, 71.47899627685547, 167.322265625, -51.6374397277832, 182.2823486328125, 89.9710922241211, 34.675384521484375, -73.64897155761719, -97.24862670898438, 41.149566650390625, -19.660219192504883, 28.827842712402344, -44.89982223510742, 105.4021987915039], \"y\": [159.50448608398438, -11.877192497253418, 142.30906677246094, -16.5068302154541, -83.72064208984375, 51.22665786743164, -146.0317840576172, 109.06322479248047, -92.86951446533203, 47.53834915161133, 1.5109037160873413, -20.96646499633789, 63.76234817504883, 37.269004821777344, -1.6884593963623047, -150.4352264404297, 70.34886932373047, 95.82892608642578, -96.90910339355469, 123.47947692871094, -226.05543518066406, 29.599708557128906, -39.2381477355957, 192.8846435546875, -164.63099670410156, -78.55448913574219, 180.37240600585938, -84.17741394042969], \"type\": \"scatter\", \"uid\": \"c397bd08-9454-41f2-bff4-97f1f15ac563\"}], {\"hovermode\": \"closest\", \"title\": \"t-SNE 1 vs t-SNE 2 for sirst 1000 words \", \"xaxis\": {\"title\": \"t-SNE 1\"}, \"yaxis\": {\"title\": \"t-SNE 2\"}}, {\"showLink\": true, \"linkText\": \"Export to plot.ly\", \"plotlyServerURL\": \"https://plot.ly\"})});</script><script type=\"text/javascript\">window.addEventListener(\"resize\", function(){window._Plotly.Plots.resize(document.getElementById(\"1dbb1119-839d-48c4-8313-55722ca3dc99\"));});</script>"
      ],
      "text/vnd.plotly.v1+html": [
       "<div id=\"1dbb1119-839d-48c4-8313-55722ca3dc99\" style=\"height: 525px; width: 100%;\" class=\"plotly-graph-div\"></div><script type=\"text/javascript\">require([\"plotly\"], function(Plotly) { window.PLOTLYENV=window.PLOTLYENV || {};window.PLOTLYENV.BASE_URL=\"https://plot.ly\";Plotly.newPlot(\"1dbb1119-839d-48c4-8313-55722ca3dc99\", [{\"mode\": \"markers\", \"text\": [\" \", \"e\", \"a\", \"s\", \"r\", \"o\", \"n\", \"i\", \"t\", \"l\", \"d\", \"h\", \"g\", \"c\", \"u\", \"m\", \"p\", \"w\", \"y\", \"b\", \"f\", \"k\", \"v\", \"x\", \"j\", \"q\", \"z\"], \"x\": [159.10299682617188, 139.1963348388672, -124.90876770019531, 64.61531066894531, -162.1566619873047, 87.57599639892578, -104.6557388305664, 18.14472198486328, -41.94021224975586, -277.1678771972656, 218.08949279785156, -21.03046989440918, -142.3081512451172, 13.510171890258789, -185.32952880859375, 71.47899627685547, 167.322265625, -51.6374397277832, 182.2823486328125, 89.9710922241211, 34.675384521484375, -73.64897155761719, -97.24862670898438, 41.149566650390625, -19.660219192504883, 28.827842712402344, -44.89982223510742, 105.4021987915039], \"y\": [159.50448608398438, -11.877192497253418, 142.30906677246094, -16.5068302154541, -83.72064208984375, 51.22665786743164, -146.0317840576172, 109.06322479248047, -92.86951446533203, 47.53834915161133, 1.5109037160873413, -20.96646499633789, 63.76234817504883, 37.269004821777344, -1.6884593963623047, -150.4352264404297, 70.34886932373047, 95.82892608642578, -96.90910339355469, 123.47947692871094, -226.05543518066406, 29.599708557128906, -39.2381477355957, 192.8846435546875, -164.63099670410156, -78.55448913574219, 180.37240600585938, -84.17741394042969], \"type\": \"scatter\", \"uid\": \"c397bd08-9454-41f2-bff4-97f1f15ac563\"}], {\"hovermode\": \"closest\", \"title\": \"t-SNE 1 vs t-SNE 2 for sirst 1000 words \", \"xaxis\": {\"title\": \"t-SNE 1\"}, \"yaxis\": {\"title\": \"t-SNE 2\"}}, {\"showLink\": true, \"linkText\": \"Export to plot.ly\", \"plotlyServerURL\": \"https://plot.ly\"})});</script><script type=\"text/javascript\">window.addEventListener(\"resize\", function(){window._Plotly.Plots.resize(document.getElementById(\"1dbb1119-839d-48c4-8313-55722ca3dc99\"));});</script>"
      ]
     },
     "metadata": {},
     "output_type": "display_data"
    }
   ],
   "source": [
    "X_embedded = TSNE(n_components=2).fit_transform(word_embds[0])\n",
    "number_of_words = num_classes\n",
    "trace = go.Scatter(\n",
    "    x = X_embedded[0:number_of_words,0], \n",
    "    y = X_embedded[0:number_of_words, 1],\n",
    "    mode = 'markers',\n",
    "    text= word_list[0:number_of_words]\n",
    ")\n",
    "layout = dict(title= 't-SNE 1 vs t-SNE 2 for characters ',\n",
    "              yaxis = dict(title='t-SNE 2'),\n",
    "              xaxis = dict(title='t-SNE 1'),\n",
    "              hovermode= 'closest')\n",
    "fig = dict(data = [trace], layout= layout)\n",
    "py.iplot(fig)"
   ]
  },
  {
   "cell_type": "code",
   "execution_count": 94,
   "metadata": {},
   "outputs": [],
   "source": [
    "def text_to_colors(text, n):\n",
    "    sents = nltk.sent_tokenize(text)   \n",
    "    tokens = [nltk.tokenize.word_tokenize(s) for s in sents]\n",
    "    #print(tokens)\n",
    "    sents_nopunct = [' '.join(remove_stop_punct(s)) for s in tokens] \n",
    "    #print(sents_nopunct)\n",
    "    temp_text = '. '.join(sents_nopunct[:n])\n",
    "    chunks = get_chunks(temp_text)\n",
    "    plot_all_text(chunks)"
   ]
  },
  {
   "cell_type": "code",
   "execution_count": 95,
   "metadata": {},
   "outputs": [],
   "source": [
    "songs = pd.read_csv('songdata.csv')"
   ]
  },
  {
   "cell_type": "code",
   "execution_count": 96,
   "metadata": {},
   "outputs": [],
   "source": [
    "songs = songs.sample(frac=1).reset_index(drop=True)#shuffle dataframe"
   ]
  },
  {
   "cell_type": "code",
   "execution_count": 97,
   "metadata": {},
   "outputs": [],
   "source": [
    "song1 = songs.text[0].replace ('\\n', '.')\n",
    "song2 = songs.text[10].replace ('\\n', '.')"
   ]
  },
  {
   "cell_type": "code",
   "execution_count": 99,
   "metadata": {},
   "outputs": [
    {
     "name": "stdout",
     "output_type": "stream",
     "text": [
      "Colors predicted:  [0.3705967  0.32916632 0.3002369 ]\n",
      "Colors predicted:  [0.37068346 0.3292236  0.30009297]\n",
      "Colors predicted:  [0.37070522 0.32911187 0.3001829 ]\n",
      "Colors predicted:  [0.37099978 0.32896867 0.30003157]\n",
      "Colors predicted:  [0.37053397 0.32927516 0.3001909 ]\n",
      "Colors predicted:  [0.37053397 0.32927516 0.3001909 ]\n",
      "Colors predicted:  [0.3705967  0.32916632 0.3002369 ]\n"
     ]
    },
    {
     "data": {
      "image/png": "[encoded data removed]",
      "text/plain": [
       "<matplotlib.figure.Figure at 0x1b6d5fea58>"
      ]
     },
     "metadata": {},
     "output_type": "display_data"
    }
   ],
   "source": [
    "text_to_colors(song1, 15)\n"
   ]
  },
  {
   "cell_type": "code",
   "execution_count": 101,
   "metadata": {},
   "outputs": [
    {
     "name": "stdout",
     "output_type": "stream",
     "text": [
      "Colors predicted:  [0.37062553 0.32903755 0.30033696]\n",
      "Colors predicted:  [0.37058988 0.32913196 0.3002782 ]\n"
     ]
    },
    {
     "data": {
      "image/png": "[encoded data removed]",
      "text/plain": [
       "<matplotlib.figure.Figure at 0x1b63a8aa20>"
      ]
     },
     "metadata": {},
     "output_type": "display_data"
    }
   ],
   "source": [
    "text_to_colors(song2, 2)"
   ]
  },
  {
   "cell_type": "code",
   "execution_count": null,
   "metadata": {},
   "outputs": [],
   "source": []
  }
 ],
 "metadata": {
  "kernelspec": {
   "display_name": "Python 3",
   "language": "python",
   "name": "python3"
  },
  "language_info": {
   "codemirror_mode": {
    "name": "ipython",
    "version": 3
   },
   "file_extension": ".py",
   "mimetype": "text/x-python",
   "name": "python",
   "nbconvert_exporter": "python",
   "pygments_lexer": "ipython3",
   "version": "3.6.4"
  }
 },
 "nbformat": 4,
 "nbformat_minor": 2
}
