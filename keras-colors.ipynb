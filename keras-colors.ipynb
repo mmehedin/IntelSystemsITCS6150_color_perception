{
 "cells": [
  {
   "cell_type": "code",
   "execution_count": 8,
   "metadata": {},
   "outputs": [
    {
     "name": "stdout",
     "output_type": "stream",
     "text": [
      "1.1.0\n"
     ]
    }
   ],
   "source": [
    "import tensorflow as tf\n",
    "import keras\n",
    "#from tensorflow.python import keras\n",
    "#from tensorflow.python.keras import preprocessing\n",
    "from keras import preprocessing\n",
    "#from tensorflow.python.keras.preprocessing.text import Tokenizer\n",
    "from keras.preprocessing.text import Tokenizer\n",
    "#from tensorflow.python.keras.models import Sequential\n",
    "from keras.models import Sequential\n",
    "#from tensorflow.python.keras.layers import Dense, Dropout, LSTM, Reshape\n",
    "from keras.layers import Dense, Dropout, LSTM, Reshape\n",
    "\n",
    "import numpy as np\n",
    "import pandas\n",
    "\n",
    "np.random.seed(10)\n",
    "print (tf.__version__)\n",
    "import os"
   ]
  },
  {
   "cell_type": "code",
   "execution_count": 11,
   "metadata": {
    "scrolled": true
   },
   "outputs": [
    {
     "data": {
      "text/html": [
       "<div>\n",
       "<style scoped>\n",
       "    .dataframe tbody tr th:only-of-type {\n",
       "        vertical-align: middle;\n",
       "    }\n",
       "\n",
       "    .dataframe tbody tr th {\n",
       "        vertical-align: top;\n",
       "    }\n",
       "\n",
       "    .dataframe thead th {\n",
       "        text-align: right;\n",
       "    }\n",
       "</style>\n",
       "<table border=\"1\" class=\"dataframe\">\n",
       "  <thead>\n",
       "    <tr style=\"text-align: right;\">\n",
       "      <th></th>\n",
       "      <th>name</th>\n",
       "      <th>red</th>\n",
       "      <th>green</th>\n",
       "      <th>blue</th>\n",
       "    </tr>\n",
       "  </thead>\n",
       "  <tbody>\n",
       "    <tr>\n",
       "      <th>0</th>\n",
       "      <td>parakeet</td>\n",
       "      <td>174</td>\n",
       "      <td>182</td>\n",
       "      <td>87</td>\n",
       "    </tr>\n",
       "    <tr>\n",
       "      <th>1</th>\n",
       "      <td>saddle brown</td>\n",
       "      <td>88</td>\n",
       "      <td>52</td>\n",
       "      <td>1</td>\n",
       "    </tr>\n",
       "    <tr>\n",
       "      <th>2</th>\n",
       "      <td>cucumber crush</td>\n",
       "      <td>222</td>\n",
       "      <td>237</td>\n",
       "      <td>215</td>\n",
       "    </tr>\n",
       "    <tr>\n",
       "      <th>3</th>\n",
       "      <td>pool blue</td>\n",
       "      <td>134</td>\n",
       "      <td>194</td>\n",
       "      <td>201</td>\n",
       "    </tr>\n",
       "    <tr>\n",
       "      <th>4</th>\n",
       "      <td>distance</td>\n",
       "      <td>98</td>\n",
       "      <td>110</td>\n",
       "      <td>130</td>\n",
       "    </tr>\n",
       "  </tbody>\n",
       "</table>\n",
       "</div>"
      ],
      "text/plain": [
       "             name  red  green  blue\n",
       "0        parakeet  174    182    87\n",
       "1    saddle brown   88     52     1\n",
       "2  cucumber crush  222    237   215\n",
       "3       pool blue  134    194   201\n",
       "4        distance   98    110   130"
      ]
     },
     "execution_count": 11,
     "metadata": {},
     "output_type": "execute_result"
    }
   ],
   "source": [
    "#cwd = \n",
    "data = pandas.read_csv(os.getcwd() + '/colors.csv')\n",
    "data.head()"
   ]
  },
  {
   "cell_type": "code",
   "execution_count": 12,
   "metadata": {},
   "outputs": [
    {
     "data": {
      "text/plain": [
       "14157"
      ]
     },
     "execution_count": 12,
     "metadata": {},
     "output_type": "execute_result"
    }
   ],
   "source": [
    "len(data)"
   ]
  },
  {
   "cell_type": "code",
   "execution_count": 13,
   "metadata": {},
   "outputs": [],
   "source": [
    "names = data[\"name\"]"
   ]
  },
  {
   "cell_type": "markdown",
   "metadata": {},
   "source": [
    "## Visualize the name string length distribution"
   ]
  },
  {
   "cell_type": "code",
   "execution_count": 14,
   "metadata": {},
   "outputs": [
    {
     "name": "stderr",
     "output_type": "stream",
     "text": [
      "/Applications/anaconda3/lib/python3.6/site-packages/ipykernel_launcher.py:1: FutureWarning: Method .as_matrix will be removed in a future version. Use .values instead.\n",
      "  \"\"\"Entry point for launching an IPython kernel.\n"
     ]
    },
    {
     "data": {
      "text/plain": [
       "<matplotlib.figure.Figure at 0x11b3e68d0>"
      ]
     },
     "metadata": {},
     "output_type": "display_data"
    }
   ],
   "source": [
    "h = sorted(names.str.len().as_matrix())\n",
    "import numpy as np\n",
    "import scipy.stats as stats\n",
    "import pylab as plt\n",
    "\n",
    "fit = stats.norm.pdf(h, np.mean(h), np.std(h))  #this is a fitting indeed\n",
    "plt.plot(h,fit,'-o')\n",
    "plt.hist(h,normed=True)      #use this to draw histogram of your data\n",
    "plt.xlabel('Chars')\n",
    "plt.ylabel('Probability density')\n",
    "plt.show()"
   ]
  },
  {
   "cell_type": "code",
   "execution_count": 15,
   "metadata": {},
   "outputs": [
    {
     "data": {
      "text/plain": [
       "30"
      ]
     },
     "execution_count": 15,
     "metadata": {},
     "output_type": "execute_result"
    }
   ],
   "source": [
    "np.array(h).max()"
   ]
  },
  {
   "cell_type": "markdown",
   "metadata": {},
   "source": [
    "## Tokenize, char level"
   ]
  },
  {
   "cell_type": "code",
   "execution_count": 16,
   "metadata": {},
   "outputs": [],
   "source": [
    "maxlen = 25\n",
    "t = Tokenizer(char_level=True)\n",
    "t.fit_on_texts(names)\n",
    "tokenized = t.texts_to_sequences(names)\n",
    "padded_names = preprocessing.sequence.pad_sequences(tokenized, maxlen=maxlen)"
   ]
  },
  {
   "cell_type": "markdown",
   "metadata": {},
   "source": [
    "## One-hot encoding"
   ]
  },
  {
   "cell_type": "code",
   "execution_count": 17,
   "metadata": {},
   "outputs": [
    {
     "data": {
      "text/plain": [
       "28"
      ]
     },
     "execution_count": 17,
     "metadata": {},
     "output_type": "execute_result"
    }
   ],
   "source": [
    "from keras.utils import np_utils\n",
    "one_hot_names = np_utils.to_categorical(padded_names)\n",
    "num_classes = one_hot_names.shape[-1]\n",
    "num_classes"
   ]
  },
  {
   "cell_type": "code",
   "execution_count": 18,
   "metadata": {},
   "outputs": [
    {
     "data": {
      "text/plain": [
       "(14157, 25, 28)"
      ]
     },
     "execution_count": 18,
     "metadata": {},
     "output_type": "execute_result"
    }
   ],
   "source": [
    "one_hot_names.shape"
   ]
  },
  {
   "cell_type": "code",
   "execution_count": 19,
   "metadata": {},
   "outputs": [
    {
     "data": {
      "text/plain": [
       "{' ': 4,\n",
       " 'a': 2,\n",
       " 'b': 18,\n",
       " 'c': 11,\n",
       " 'd': 13,\n",
       " 'e': 1,\n",
       " 'f': 22,\n",
       " 'g': 14,\n",
       " 'h': 16,\n",
       " 'i': 5,\n",
       " 'j': 26,\n",
       " 'k': 21,\n",
       " 'l': 7,\n",
       " 'm': 17,\n",
       " 'n': 6,\n",
       " 'o': 8,\n",
       " 'p': 15,\n",
       " 'q': 25,\n",
       " 'r': 3,\n",
       " 's': 10,\n",
       " 't': 9,\n",
       " 'u': 12,\n",
       " 'v': 23,\n",
       " 'w': 20,\n",
       " 'x': 27,\n",
       " 'y': 19,\n",
       " 'z': 24}"
      ]
     },
     "execution_count": 19,
     "metadata": {},
     "output_type": "execute_result"
    }
   ],
   "source": [
    "t.word_index"
   ]
  },
  {
   "cell_type": "code",
   "execution_count": 20,
   "metadata": {},
   "outputs": [],
   "source": [
    "# The RGB values are between 0 - 255\n",
    "# scale them to be between 0 - 1\n",
    "def norm(value):\n",
    "    return value / 255.0\n",
    "\n",
    "normalized_values = np.column_stack([norm(data[\"red\"]), norm(data[\"green\"]), norm(data[\"blue\"])])\n"
   ]
  },
  {
   "cell_type": "code",
   "execution_count": 21,
   "metadata": {},
   "outputs": [
    {
     "name": "stdout",
     "output_type": "stream",
     "text": [
      "_________________________________________________________________\n",
      "Layer (type)                 Output Shape              Param #   \n",
      "=================================================================\n",
      "lstm_1 (LSTM)                (None, 25, 256)           291840    \n",
      "_________________________________________________________________\n",
      "lstm_2 (LSTM)                (None, 128)               197120    \n",
      "_________________________________________________________________\n",
      "dense_1 (Dense)              (None, 128)               16512     \n",
      "_________________________________________________________________\n",
      "dense_2 (Dense)              (None, 3)                 387       \n",
      "=================================================================\n",
      "Total params: 505,859\n",
      "Trainable params: 505,859\n",
      "Non-trainable params: 0\n",
      "_________________________________________________________________\n"
     ]
    }
   ],
   "source": [
    "model = Sequential()\n",
    "model.add(LSTM(256, return_sequences=True, input_shape=(maxlen, num_classes)))\n",
    "model.add(LSTM(128))\n",
    "model.add(Dense(128, activation='relu'))\n",
    "model.add(Dense(3, activation='sigmoid'))\n",
    "model.compile(optimizer='adam', loss='mse', metrics=['acc'])\n",
    "model.summary()"
   ]
  },
  {
   "cell_type": "code",
   "execution_count": 23,
   "metadata": {},
   "outputs": [],
   "source": [
    "#model.load_weights('model_1.h5')"
   ]
  },
  {
   "cell_type": "code",
   "execution_count": 24,
   "metadata": {
    "collapsed": true
   },
   "outputs": [
    {
     "name": "stdout",
     "output_type": "stream",
     "text": [
      "Train on 12741 samples, validate on 1416 samples\n",
      "Epoch 1/40\n",
      "12741/12741 [==============================] - 69s 5ms/step - loss: 0.0605 - acc: 0.6266 - val_loss: 0.0592 - val_acc: 0.6236\n",
      "Epoch 2/40\n",
      "12741/12741 [==============================] - 68s 5ms/step - loss: 0.0550 - acc: 0.6653 - val_loss: 0.0558 - val_acc: 0.6702\n",
      "Epoch 3/40\n",
      "12741/12741 [==============================] - 69s 5ms/step - loss: 0.0524 - acc: 0.6671 - val_loss: 0.0535 - val_acc: 0.6617\n",
      "Epoch 4/40\n",
      "12741/12741 [==============================] - 69s 5ms/step - loss: 0.0500 - acc: 0.6681 - val_loss: 0.0516 - val_acc: 0.6532\n",
      "Epoch 5/40\n",
      "12741/12741 [==============================] - 68s 5ms/step - loss: 0.0480 - acc: 0.6697 - val_loss: 0.0500 - val_acc: 0.6723\n",
      "Epoch 6/40\n",
      "12741/12741 [==============================] - 69s 5ms/step - loss: 0.0457 - acc: 0.6727 - val_loss: 0.0490 - val_acc: 0.6314\n",
      "Epoch 7/40\n",
      "12741/12741 [==============================] - 69s 5ms/step - loss: 0.0436 - acc: 0.6782 - val_loss: 0.0477 - val_acc: 0.6709\n",
      "Epoch 8/40\n",
      "12741/12741 [==============================] - 69s 5ms/step - loss: 0.0414 - acc: 0.6844 - val_loss: 0.0471 - val_acc: 0.6843\n",
      "Epoch 9/40\n",
      "12741/12741 [==============================] - 69s 5ms/step - loss: 0.0394 - acc: 0.6870 - val_loss: 0.0458 - val_acc: 0.6688\n",
      "Epoch 10/40\n",
      "12741/12741 [==============================] - 69s 5ms/step - loss: 0.0372 - acc: 0.6930 - val_loss: 0.0452 - val_acc: 0.6864\n",
      "Epoch 11/40\n",
      "12741/12741 [==============================] - 69s 5ms/step - loss: 0.0347 - acc: 0.6961 - val_loss: 0.0451 - val_acc: 0.6864\n",
      "Epoch 12/40\n",
      "12741/12741 [==============================] - 69s 5ms/step - loss: 0.0322 - acc: 0.7054 - val_loss: 0.0452 - val_acc: 0.6893\n",
      "Epoch 13/40\n",
      "12741/12741 [==============================] - 71s 6ms/step - loss: 0.0296 - acc: 0.7037 - val_loss: 0.0451 - val_acc: 0.6871\n",
      "Epoch 14/40\n",
      "12741/12741 [==============================] - 69s 5ms/step - loss: 0.0268 - acc: 0.7126 - val_loss: 0.0461 - val_acc: 0.6907\n",
      "Epoch 15/40\n",
      "12741/12741 [==============================] - 68s 5ms/step - loss: 0.0242 - acc: 0.7167 - val_loss: 0.0462 - val_acc: 0.6942\n",
      "Epoch 16/40\n",
      "12741/12741 [==============================] - 70s 6ms/step - loss: 0.0215 - acc: 0.7193 - val_loss: 0.0466 - val_acc: 0.6808\n",
      "Epoch 17/40\n",
      "12741/12741 [==============================] - 68s 5ms/step - loss: 0.0191 - acc: 0.7235 - val_loss: 0.0471 - val_acc: 0.6822\n",
      "Epoch 18/40\n",
      "12741/12741 [==============================] - 69s 5ms/step - loss: 0.0170 - acc: 0.7318 - val_loss: 0.0471 - val_acc: 0.6935\n",
      "Epoch 19/40\n",
      "12741/12741 [==============================] - 69s 5ms/step - loss: 0.0155 - acc: 0.7392 - val_loss: 0.0481 - val_acc: 0.6751\n",
      "Epoch 20/40\n",
      "12741/12741 [==============================] - 80s 6ms/step - loss: 0.0138 - acc: 0.7473 - val_loss: 0.0474 - val_acc: 0.6836\n",
      "Epoch 21/40\n",
      "12741/12741 [==============================] - 82s 6ms/step - loss: 0.0127 - acc: 0.7470 - val_loss: 0.0480 - val_acc: 0.6886\n",
      "Epoch 22/40\n",
      "12741/12741 [==============================] - 68s 5ms/step - loss: 0.0118 - acc: 0.7566 - val_loss: 0.0494 - val_acc: 0.6787\n",
      "Epoch 23/40\n",
      "12741/12741 [==============================] - 68s 5ms/step - loss: 0.0108 - acc: 0.7626 - val_loss: 0.0484 - val_acc: 0.6794\n",
      "Epoch 24/40\n",
      "12741/12741 [==============================] - 68s 5ms/step - loss: 0.0102 - acc: 0.7711 - val_loss: 0.0484 - val_acc: 0.6857\n",
      "Epoch 25/40\n",
      "12741/12741 [==============================] - 69s 5ms/step - loss: 0.0095 - acc: 0.7768 - val_loss: 0.0497 - val_acc: 0.6970\n",
      "Epoch 26/40\n",
      "12741/12741 [==============================] - 69s 5ms/step - loss: 0.0090 - acc: 0.7857 - val_loss: 0.0488 - val_acc: 0.6843\n",
      "Epoch 27/40\n",
      "12741/12741 [==============================] - 68s 5ms/step - loss: 0.0085 - acc: 0.7882 - val_loss: 0.0491 - val_acc: 0.6843\n",
      "Epoch 28/40\n",
      "12741/12741 [==============================] - 68s 5ms/step - loss: 0.0082 - acc: 0.7892 - val_loss: 0.0482 - val_acc: 0.6949\n",
      "Epoch 29/40\n",
      "12741/12741 [==============================] - 68s 5ms/step - loss: 0.0079 - acc: 0.7984 - val_loss: 0.0489 - val_acc: 0.7083\n",
      "Epoch 30/40\n",
      "12741/12741 [==============================] - 69s 5ms/step - loss: 0.0077 - acc: 0.8050 - val_loss: 0.0486 - val_acc: 0.6857\n",
      "Epoch 31/40\n",
      "12741/12741 [==============================] - 68s 5ms/step - loss: 0.0074 - acc: 0.8047 - val_loss: 0.0482 - val_acc: 0.6758\n",
      "Epoch 32/40\n",
      "12741/12741 [==============================] - 69s 5ms/step - loss: 0.0072 - acc: 0.8077 - val_loss: 0.0486 - val_acc: 0.6886\n",
      "Epoch 33/40\n",
      "12741/12741 [==============================] - 68s 5ms/step - loss: 0.0071 - acc: 0.8130 - val_loss: 0.0487 - val_acc: 0.6843\n",
      "Epoch 34/40\n",
      "12741/12741 [==============================] - 68s 5ms/step - loss: 0.0068 - acc: 0.8163 - val_loss: 0.0486 - val_acc: 0.6907\n",
      "Epoch 35/40\n",
      "12741/12741 [==============================] - 69s 5ms/step - loss: 0.0065 - acc: 0.8251 - val_loss: 0.0487 - val_acc: 0.6850\n",
      "Epoch 36/40\n",
      "12741/12741 [==============================] - 69s 5ms/step - loss: 0.0066 - acc: 0.8223 - val_loss: 0.0489 - val_acc: 0.7041\n",
      "Epoch 37/40\n",
      "12741/12741 [==============================] - 70s 6ms/step - loss: 0.0064 - acc: 0.8296 - val_loss: 0.0482 - val_acc: 0.6850\n",
      "Epoch 38/40\n",
      "12741/12741 [==============================] - 72s 6ms/step - loss: 0.0062 - acc: 0.8289 - val_loss: 0.0500 - val_acc: 0.6758\n",
      "Epoch 39/40\n",
      "12741/12741 [==============================] - 70s 5ms/step - loss: 0.0060 - acc: 0.8361 - val_loss: 0.0490 - val_acc: 0.6829\n",
      "Epoch 40/40\n",
      "12741/12741 [==============================] - 69s 5ms/step - loss: 0.0059 - acc: 0.8335 - val_loss: 0.0477 - val_acc: 0.6843\n"
     ]
    }
   ],
   "source": [
    "history = model.fit(one_hot_names, normalized_values,\n",
    "                    epochs=40,\n",
    "                    batch_size=32,\n",
    "                    validation_split=0.1)"
   ]
  },
  {
   "cell_type": "code",
   "execution_count": null,
   "metadata": {},
   "outputs": [],
   "source": [
    "# Optionally continue to train with all data, this will likely overfit the training data.\n",
    "model.fit(one_hot_names, normalized_values,\n",
    "                    epochs=10,\n",
    "                    batch_size=32)"
   ]
  },
  {
   "cell_type": "code",
   "execution_count": null,
   "metadata": {},
   "outputs": [],
   "source": [
    "# Save the model parameters for later use.\n",
    "model.save_weights('model_1.h5')"
   ]
  },
  {
   "cell_type": "code",
   "execution_count": 25,
   "metadata": {},
   "outputs": [
    {
     "data": {
      "image/png": "[encoded data removed]",
      "text/plain": [
       "<matplotlib.figure.Figure at 0x1a2d5826a0>"
      ]
     },
     "metadata": {},
     "output_type": "display_data"
    },
    {
     "data": {
      "image/png": "[encoded data removed]",
      "text/plain": [
       "<matplotlib.figure.Figure at 0x11b862908>"
      ]
     },
     "metadata": {},
     "output_type": "display_data"
    }
   ],
   "source": [
    "acc = history.history['acc']\n",
    "val_acc = history.history['val_acc']\n",
    "loss = history.history['loss']\n",
    "val_loss = history.history['val_loss']\n",
    "\n",
    "epochs = range(len(acc))\n",
    "\n",
    "plt.plot(epochs, acc, 'bo', label='Training acc')\n",
    "plt.plot(epochs, val_acc, 'b', label='Validation acc')\n",
    "plt.title('Training and validation accuracy')\n",
    "plt.legend()\n",
    "\n",
    "plt.figure()\n",
    "\n",
    "plt.plot(epochs, loss, 'bo', label='Training loss')\n",
    "plt.plot(epochs, val_loss, 'b', label='Validation loss')\n",
    "plt.title('Training and validation loss')\n",
    "plt.legend()\n",
    "\n",
    "plt.show()\n"
   ]
  },
  {
   "cell_type": "code",
   "execution_count": 26,
   "metadata": {},
   "outputs": [],
   "source": [
    "# Plot a color image.\n",
    "def plot_rgb(rgb):\n",
    "    data = [[rgb]]\n",
    "    plt.figure(figsize=(2,2))\n",
    "    plt.imshow(data, interpolation='nearest')\n",
    "    plt.show()"
   ]
  },
  {
   "cell_type": "code",
   "execution_count": 27,
   "metadata": {},
   "outputs": [],
   "source": [
    "def scale(n):\n",
    "    return int(n * 255) "
   ]
  },
  {
   "cell_type": "code",
   "execution_count": 36,
   "metadata": {},
   "outputs": [],
   "source": [
    "def predict(name):\n",
    "    name = name.lower()\n",
    "    tokenized = t.texts_to_sequences([name])\n",
    "    padded = preprocessing.sequence.pad_sequences(tokenized, maxlen=maxlen)\n",
    "    one_hot = np_utils.to_categorical(padded, num_classes=num_classes)\n",
    "    pred = model.predict(np.array(one_hot))[0]\n",
    "    print (pred)\n",
    "    r, g, b = scale(pred[0]), scale(pred[1]), scale(pred[2])\n",
    "    print(name + ',', 'R,G,B:', r,g,b)\n",
    "    plot_rgb(pred)"
   ]
  },
  {
   "cell_type": "code",
   "execution_count": 37,
   "metadata": {},
   "outputs": [
    {
     "name": "stdout",
     "output_type": "stream",
     "text": [
      "[0.6018923 0.86953   0.956625 ]\n",
      "light blue, R,G,B: 153 221 243\n"
     ]
    },
    {
     "data": {
      "image/png": "[encoded data removed]",
      "text/plain": [
       "<matplotlib.figure.Figure at 0x1a2bf5a438>"
      ]
     },
     "metadata": {},
     "output_type": "display_data"
    },
    {
     "name": "stdout",
     "output_type": "stream",
     "text": [
      "[0.0491317  0.19337694 0.84470826]\n",
      "blue, R,G,B: 12 49 215\n"
     ]
    },
    {
     "data": {
      "image/png": "[encoded data removed]",
      "text/plain": [
       "<matplotlib.figure.Figure at 0x1a2d6ffba8>"
      ]
     },
     "metadata": {},
     "output_type": "display_data"
    },
    {
     "name": "stdout",
     "output_type": "stream",
     "text": [
      "[0.04291489 0.08157263 0.46817645]\n",
      "dark blue, R,G,B: 10 20 119\n"
     ]
    },
    {
     "data": {
      "image/png": "[encoded data removed]",
      "text/plain": [
       "<matplotlib.figure.Figure at 0x1a2d729828>"
      ]
     },
     "metadata": {},
     "output_type": "display_data"
    }
   ],
   "source": [
    "predict(\"light blue\")\n",
    "predict(\"blue\")\n",
    "predict(\"dark blue\")"
   ]
  },
  {
   "cell_type": "code",
   "execution_count": 38,
   "metadata": {},
   "outputs": [
    {
     "name": "stdout",
     "output_type": "stream",
     "text": [
      "[0.08381319 0.11841378 0.10834997]\n",
      "black, R,G,B: 21 30 27\n"
     ]
    },
    {
     "data": {
      "image/png": "[encoded data removed]",
      "text/plain": [
       "<matplotlib.figure.Figure at 0x1a2e283208>"
      ]
     },
     "metadata": {},
     "output_type": "display_data"
    },
    {
     "name": "stdout",
     "output_type": "stream",
     "text": [
      "[0.9597262  0.95515037 0.91828895]\n",
      "white, R,G,B: 244 243 234\n"
     ]
    },
    {
     "data": {
      "image/png": "[encoded data removed]",
      "text/plain": [
       "<matplotlib.figure.Figure at 0x1a2e2a60b8>"
      ]
     },
     "metadata": {},
     "output_type": "display_data"
    }
   ],
   "source": [
    "predict(\"black\")\n",
    "predict(\"white\")"
   ]
  },
  {
   "cell_type": "code",
   "execution_count": 31,
   "metadata": {},
   "outputs": [
    {
     "name": "stdout",
     "output_type": "stream",
     "text": [
      "tensorflow orange, R,G,B: 238 134 72\n"
     ]
    },
    {
     "data": {
      "image/png": "[encoded data removed]",
      "text/plain": [
       "<matplotlib.figure.Figure at 0x1a2d5e6a20>"
      ]
     },
     "metadata": {},
     "output_type": "display_data"
    },
    {
     "name": "stdout",
     "output_type": "stream",
     "text": [
      "forest, R,G,B: 40 84 43\n"
     ]
    },
    {
     "data": {
      "image/png": "[encoded data removed]",
      "text/plain": [
       "<matplotlib.figure.Figure at 0x11bf4ebe0>"
      ]
     },
     "metadata": {},
     "output_type": "display_data"
    },
    {
     "name": "stdout",
     "output_type": "stream",
     "text": [
      "evergreen, R,G,B: 29 80 55\n"
     ]
    },
    {
     "data": {
      "image/png": "[encoded data removed]",
      "text/plain": [
       "<matplotlib.figure.Figure at 0x11bfa8c50>"
      ]
     },
     "metadata": {},
     "output_type": "display_data"
    },
    {
     "name": "stdout",
     "output_type": "stream",
     "text": [
      "tangerine, R,G,B: 249 151 31\n"
     ]
    },
    {
     "data": {
      "image/png": "[encoded data removed]",
      "text/plain": [
       "<matplotlib.figure.Figure at 0x11c016cf8>"
      ]
     },
     "metadata": {},
     "output_type": "display_data"
    }
   ],
   "source": [
    "predict(\"tensorflow orange\")\n",
    "predict(\"forest\")\n",
    "predict(\"evergreen\")\n",
    "predict(\"tangerine\")"
   ]
  },
  {
   "cell_type": "code",
   "execution_count": 32,
   "metadata": {},
   "outputs": [
    {
     "name": "stdout",
     "output_type": "stream",
     "text": [
      "princess ivory, R,G,B: 223 228 209\n"
     ]
    },
    {
     "data": {
      "image/png": "[encoded data removed]",
      "text/plain": [
       "<matplotlib.figure.Figure at 0x1a2d5f39b0>"
      ]
     },
     "metadata": {},
     "output_type": "display_data"
    }
   ],
   "source": [
    "predict(\"princess ivory\")"
   ]
  },
  {
   "cell_type": "code",
   "execution_count": 33,
   "metadata": {},
   "outputs": [
    {
     "name": "stdout",
     "output_type": "stream",
     "text": [
      "bull cream, R,G,B: 221 216 175\n"
     ]
    },
    {
     "data": {
      "image/png": "[encoded data removed]",
      "text/plain": [
       "<matplotlib.figure.Figure at 0x11c1741d0>"
      ]
     },
     "metadata": {},
     "output_type": "display_data"
    }
   ],
   "source": [
    "predict(\"bull cream\")"
   ]
  },
  {
   "cell_type": "code",
   "execution_count": 34,
   "metadata": {},
   "outputs": [
    {
     "name": "stdout",
     "output_type": "stream",
     "text": [
      "keras red, R,G,B: 224 22 77\n"
     ]
    },
    {
     "data": {
      "image/png": "[encoded data removed]",
      "text/plain": [
       "<matplotlib.figure.Figure at 0x1a2bdab0f0>"
      ]
     },
     "metadata": {},
     "output_type": "display_data"
    }
   ],
   "source": [
    "predict(\"keras red\")"
   ]
  },
  {
   "cell_type": "code",
   "execution_count": 35,
   "metadata": {},
   "outputs": [
    {
     "name": "stdout",
     "output_type": "stream",
     "text": [
      "tensorflow orange, R,G,B: 238 134 72\n"
     ]
    },
    {
     "data": {
      "image/png": "[encoded data removed]",
      "text/plain": [
       "<matplotlib.figure.Figure at 0x1a2bdd1ac8>"
      ]
     },
     "metadata": {},
     "output_type": "display_data"
    },
    {
     "name": "stdout",
     "output_type": "stream",
     "text": [
      "forest, R,G,B: 40 84 43\n"
     ]
    },
    {
     "data": {
      "image/png": "[encoded data removed]",
      "text/plain": [
       "<matplotlib.figure.Figure at 0x1a2be30e80>"
      ]
     },
     "metadata": {},
     "output_type": "display_data"
    },
    {
     "name": "stdout",
     "output_type": "stream",
     "text": [
      "bull cream, R,G,B: 221 216 175\n"
     ]
    },
    {
     "data": {
      "image/png": "[encoded data removed]",
      "text/plain": [
       "<matplotlib.figure.Figure at 0x1a2be9d6d8>"
      ]
     },
     "metadata": {},
     "output_type": "display_data"
    },
    {
     "name": "stdout",
     "output_type": "stream",
     "text": [
      "keras red, R,G,B: 224 22 77\n"
     ]
    },
    {
     "data": {
      "image/png": "[encoded data removed]",
      "text/plain": [
       "<matplotlib.figure.Figure at 0x1a2bee2358>"
      ]
     },
     "metadata": {},
     "output_type": "display_data"
    }
   ],
   "source": [
    "predict(\"tensorflow orange\")\n",
    "predict(\"forest\")\n",
    "predict(\"bull cream\")\n",
    "predict(\"keras red\")"
   ]
  },
  {
   "cell_type": "code",
   "execution_count": null,
   "metadata": {},
   "outputs": [],
   "source": []
  },
  {
   "cell_type": "code",
   "execution_count": null,
   "metadata": {},
   "outputs": [],
   "source": []
  }
 ],
 "metadata": {
  "kernelspec": {
   "display_name": "Python 3",
   "language": "python",
   "name": "python3"
  }
 },
 "nbformat": 4,
 "nbformat_minor": 2
}
